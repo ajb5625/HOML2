{
 "cells": [
  {
   "cell_type": "code",
   "execution_count": null,
   "metadata": {},
   "outputs": [],
   "source": [
    "# deep learning success depends on the variance of the incoming and outgoing of the layer\n",
    "# \n",
    "# need variance to be similar for signal in and out of the layer\n",
    "# use different initialization techniques dependent on the \n",
    "# activation function\n",
    "\n",
    "# sigmoid activation saturates at 0 and 1, causing vanishing gradients\n",
    "\n",
    "# relu is replaced with leaky relu\n",
    "# when derivative of negative relu, it is 0\n",
    "# therefore gradient descent will do nothing and neurons die\n",
    "# leaky relu gives some slope to the negative direction of relu\n",
    "\n",
    "# also ELU activation is good\n",
    "# SELU - scaled ELU with Lecun initialization for dense sequential networks works very well\n",
    "# normalizes the data automatically if satisfy the above condition\n",
    "\n",
    "# generally selu > elu > leaky relu > relu > tanh > logistic\n",
    "\n",
    "# using leaky relu\n",
    "\n",
    "model = keras.models.Sequential([\n",
    "    [...]\n",
    "    keras.layers.Dense(10, kernel_initializer='he_normal'),\n",
    "    keras.layers.LeakyReLu(alpha=.2)\n",
    "    [...]\n",
    "])"
   ]
  },
  {
   "cell_type": "code",
   "execution_count": 2,
   "metadata": {},
   "outputs": [],
   "source": [
    "import tensorflow as tf\n",
    "from tensorflow import keras\n",
    "# selu\n",
    "\n",
    "layer = keras.layers.Dense(10, activation='selu',\n",
    "                          kernel_initializer='lecun_normal')\n",
    "\n",
    "# in general\n",
    "# none, tanh, logistic, softmax use Glorot initialization\n",
    "# ReLu and variants use He initialization\n",
    "# SELU uses LeCun initialization\n",
    "# this helps avoid vanishing and exploding gradients at the beginning of training\n",
    "\n",
    "# but no guarantee to stop it"
   ]
  },
  {
   "cell_type": "code",
   "execution_count": null,
   "metadata": {},
   "outputs": [],
   "source": [
    "# do batch normalization before or after activation function of each hidden layer\n",
    "\n",
    "# it will zero center and normalize the inputs\n",
    "# model will learn optimal scale and shift vectors for each hidden layer\n",
    "# if you add bn layer as first layer of neural net, no need for standard scaler anymore\n",
    "\n",
    "# standardize input, rescale and shift\n",
    "\n"
   ]
  }
 ],
 "metadata": {
  "kernelspec": {
   "display_name": "Python 3",
   "language": "python",
   "name": "python3"
  },
  "language_info": {
   "codemirror_mode": {
    "name": "ipython",
    "version": 3
   },
   "file_extension": ".py",
   "mimetype": "text/x-python",
   "name": "python",
   "nbconvert_exporter": "python",
   "pygments_lexer": "ipython3",
   "version": "3.8.5"
  }
 },
 "nbformat": 4,
 "nbformat_minor": 4
}
