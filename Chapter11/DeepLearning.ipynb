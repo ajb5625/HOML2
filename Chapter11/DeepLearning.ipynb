{
 "cells": [
  {
   "cell_type": "code",
   "execution_count": null,
   "metadata": {},
   "outputs": [],
   "source": [
    "# deep learning success depends on the variance of the incoming and outgoing of the layer\n",
    "# \n",
    "# need variance to be similar for signal in and out of the layer\n",
    "# use different initialization techniques dependent on the \n",
    "# activation function\n",
    "\n",
    "# sigmoid activation saturates at 0 and 1, causing vanishing gradients\n",
    "\n",
    "# relu is replaced with leaky relu\n",
    "# when derivative of negative relu, it is 0\n",
    "# therefore gradient descent will do nothing and neurons die\n",
    "# leaky relu gives some slope to the negative direction of relu\n",
    "\n",
    "# also ELU activation is good\n",
    "# SELU - scaled ELU with Lecun initialization for dense sequential networks works very well\n",
    "# normalizes the data automatically if satisfy the above condition\n",
    "\n",
    "# generally selu > elu > leaky relu > relu > tanh > logistic\n",
    "\n",
    "# using leaky relu\n",
    "\n",
    "model = keras.models.Sequential([\n",
    "    [...]\n",
    "    keras.layers.Dense(10, kernel_initializer='he_normal'),\n",
    "    keras.layers.LeakyReLu(alpha=.2)\n",
    "    [...]\n",
    "])"
   ]
  },
  {
   "cell_type": "code",
   "execution_count": 1,
   "metadata": {},
   "outputs": [],
   "source": [
    "import tensorflow as tf\n",
    "from tensorflow import keras\n",
    "# selu\n",
    "\n",
    "layer = keras.layers.Dense(10, activation='selu',\n",
    "                          kernel_initializer='lecun_normal')\n",
    "\n",
    "# in general\n",
    "# none, tanh, logistic, softmax use Glorot initialization\n",
    "# ReLu and variants use He initialization\n",
    "# SELU uses LeCun initialization\n",
    "# this helps avoid vanishing and exploding gradients at the beginning of training\n",
    "\n",
    "# but no guarantee to stop it"
   ]
  },
  {
   "cell_type": "code",
   "execution_count": 2,
   "metadata": {},
   "outputs": [
    {
     "name": "stdout",
     "output_type": "stream",
     "text": [
      "Model: \"sequential\"\n",
      "_________________________________________________________________\n",
      " Layer (type)                Output Shape              Param #   \n",
      "=================================================================\n",
      " flatten (Flatten)           (None, 784)               0         \n",
      "                                                                 \n",
      " batch_normalization (BatchN  (None, 784)              3136      \n",
      " ormalization)                                                   \n",
      "                                                                 \n",
      " dense_1 (Dense)             (None, 300)               235500    \n",
      "                                                                 \n",
      " batch_normalization_1 (Batc  (None, 300)              1200      \n",
      " hNormalization)                                                 \n",
      "                                                                 \n",
      " dense_2 (Dense)             (None, 100)               30100     \n",
      "                                                                 \n",
      " batch_normalization_2 (Batc  (None, 100)              400       \n",
      " hNormalization)                                                 \n",
      "                                                                 \n",
      " dense_3 (Dense)             (None, 10)                1010      \n",
      "                                                                 \n",
      "=================================================================\n",
      "Total params: 271,346\n",
      "Trainable params: 268,978\n",
      "Non-trainable params: 2,368\n",
      "_________________________________________________________________\n"
     ]
    }
   ],
   "source": [
    "# do batch normalization before or after activation function of each hidden layer\n",
    "\n",
    "# it will zero center and normalize the inputs\n",
    "# model will learn optimal scale and shift vectors for each hidden layer\n",
    "# if you add on layer as first layer of neural net, no need for standard scaler anymore\n",
    "\n",
    "# standardize input, rescale and shift\n",
    "\n",
    "model = keras.models.Sequential([\n",
    "    keras.layers.Flatten(input_shape=[28, 28]),\n",
    "    keras.layers.BatchNormalization(),\n",
    "    keras.layers.Dense(300, activation='elu', kernel_initializer='he_normal'),\n",
    "    keras.layers.BatchNormalization(),\n",
    "    keras.layers.Dense(100, activation='elu', kernel_initializer='he_normal'),\n",
    "    keras.layers.BatchNormalization(),\n",
    "    keras.layers.Dense(10, activation='softmax')\n",
    "])\n",
    "\n",
    "model.summary()"
   ]
  },
  {
   "cell_type": "code",
   "execution_count": null,
   "metadata": {},
   "outputs": [],
   "source": [
    "# use gradient clipping to reduce exploding gradient for recurrent neural networks, as \n",
    "# batch normalization is hard to use on RNNs\n",
    "\n",
    "optimizer = keras.optimizers.SGD(clipvalue=1.0)\n",
    "model.compile(loss='mse', optimizer=optimizer)\n",
    "\n",
    "# to insure the gradient clipping doesnt change direction of gradient vector,\n",
    "# set clipnorm instead of clipvalue"
   ]
  },
  {
   "cell_type": "code",
   "execution_count": null,
   "metadata": {},
   "outputs": [],
   "source": [
    "# transfer learning is to reuse layers of dnns that accomplish similar tasks\n",
    "# fix these reused layers weights and add to as necessary for your task\n",
    "\n",
    "# pretend we still had our fashion mnist model\n",
    "\n",
    "model_A = keras.models.load_model('my_model_A.h5')\n",
    "model_B_on_A = keras.models.Sequential(model_A.layers[:-1])\n",
    "model_B_on_A.add(keras.layers.Dense(1, activation='sigmoid')) # want binary classifier for shirts and sandals\n",
    "# models a and b now share layers up to the output layer\n",
    "# training B will now affect A, can prevent this by cloning A\n",
    "model_A_clone = keras.models.clone_model(model_A)\n",
    "model_A_clone.set_weights(model_A.get_weights())\n",
    "\n",
    "# to give new layers reasonable time to learn weights, set reused trainable to false\n",
    "\n",
    "for layer in model_B_on_A.layers[:-1]:\n",
    "    layer.trainable = False\n",
    "    \n",
    "model_B_on_A.compile(loss='binary_crossentropy', optimizer='sgd',\n",
    "                    metrics=['accuracy'])\n",
    "# transfer learning is best for very deep networks"
   ]
  },
  {
   "cell_type": "code",
   "execution_count": null,
   "metadata": {},
   "outputs": [],
   "source": [
    "# momentum based sgd\n",
    "\n",
    "optimizer = keras.optimizers.SGD(lr=.001, momentum=.9)\n",
    "\n",
    "# or faster than just momentum to use nesterov optimization\n",
    "\n",
    "optimizer = keras.optimizers.SGD(lr=.001, momentum=.9, nesterov=True)\n",
    "\n",
    "# adagrad good for simple quadratic problems\n",
    "\n",
    "# rmsprop is better version of adagrad for more complex problems like ann\n",
    "\n",
    "optimizer = keras.optimizers.RMSprop(lr=.001, rho=.9)\n",
    "\n",
    "# adam optimizer is most common, combines momentum and rmsprop\n",
    "\n",
    "optimizer = keras.optimizers.Adam(lr=.001, beta_1=.9, beta_2=.999)\n",
    "# nadam includes nesterov trick"
   ]
  },
  {
   "cell_type": "code",
   "execution_count": null,
   "metadata": {},
   "outputs": [],
   "source": []
  }
 ],
 "metadata": {
  "kernelspec": {
   "display_name": "Python 3",
   "language": "python",
   "name": "python3"
  },
  "language_info": {
   "codemirror_mode": {
    "name": "ipython",
    "version": 3
   },
   "file_extension": ".py",
   "mimetype": "text/x-python",
   "name": "python",
   "nbconvert_exporter": "python",
   "pygments_lexer": "ipython3",
   "version": "3.8.5"
  }
 },
 "nbformat": 4,
 "nbformat_minor": 4
}
