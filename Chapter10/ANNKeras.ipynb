{
 "cells": [
  {
   "cell_type": "code",
   "execution_count": 1,
   "metadata": {},
   "outputs": [
    {
     "name": "stdout",
     "output_type": "stream",
     "text": [
      "[0]\n"
     ]
    }
   ],
   "source": [
    "# perceptron in scikit with single tlu network\n",
    "\n",
    "import numpy as np\n",
    "from sklearn.datasets import load_iris\n",
    "from sklearn.linear_model import Perceptron\n",
    "\n",
    "iris = load_iris()\n",
    "X = iris.data[:, (2, 3)] # petal length and width\n",
    "y = (iris.target == 0).astype(np.int)\n",
    "\n",
    "per_clf = Perceptron()\n",
    "per_clf.fit(X, y)\n",
    "y_pred = per_clf.predict([[2, .5]])\n",
    "print(y_pred)\n",
    "# perceptron does not output a class probability like logistic regression\n",
    "# but uses a hard threshold classification"
   ]
  },
  {
   "cell_type": "code",
   "execution_count": 2,
   "metadata": {},
   "outputs": [],
   "source": [
    "# we use nonlinear activations functions in mlps like sigmoid, hyperbolic tangent, relu because\n",
    "# linear transformations of multiple linear functions are still linear. by nesting the\n",
    "# above activation functions in each layer, you can basically approximate any continuous function\n",
    "\n",
    "# a typical regression mlp follows this format\n",
    "# input neurons : one per feature\n",
    "# hidden layers: typically 1 to 5\n",
    "# neurons per hidden layer : typically 10 to 100\n",
    "# output neurons : 1 per prediction dimension\n",
    "# hidden activation : ReLU\n",
    "# output activation: None, or relu/softplus if positive only outputs or logistic/tanh if bounded outputs\n",
    "# loss function: MSE or MAE/Huber if outliers\n",
    "\n",
    "\n",
    "# classification mlp\n",
    "# input and hidden layers: same as regression\n",
    "# output neurons: 1 for binary classification, 1 per label for multilabel binary, 1 per class for multiclass\n",
    "# output layer activation: logistic for binary and multilabel binary, softmax for multiclass\n",
    "# loss function: cross entropy\n",
    "# use softmax for multiclass because if the classes are exclusive the sum of all \n",
    "# output neurons will be 1. for multilabel and binary classes, you can you log because they may not be exclusive\n",
    "\n"
   ]
  },
  {
   "cell_type": "code",
   "execution_count": 3,
   "metadata": {},
   "outputs": [
    {
     "name": "stdout",
     "output_type": "stream",
     "text": [
      "2.7.0\n",
      "2.7.0\n"
     ]
    }
   ],
   "source": [
    "# tensorflow and keras time\n",
    "\n",
    "import tensorflow as tf\n",
    "from tensorflow import keras\n",
    "\n",
    "print(tf.__version__)\n",
    "print(keras.__version__)"
   ]
  },
  {
   "cell_type": "code",
   "execution_count": 4,
   "metadata": {},
   "outputs": [],
   "source": [
    "# now, we will build an image classifier\n",
    "\n",
    "fashion_mnist = keras.datasets.fashion_mnist\n",
    "(X_train_full, y_train_full), (X_test, y_test) = fashion_mnist.load_data()"
   ]
  },
  {
   "cell_type": "code",
   "execution_count": 5,
   "metadata": {},
   "outputs": [
    {
     "name": "stdout",
     "output_type": "stream",
     "text": [
      "Coat\n"
     ]
    }
   ],
   "source": [
    "# X_train_full.shape\n",
    "# X_train_full.dtype\n",
    "\n",
    "# split train set into validation and train / scale pixel intensities by dividing by 255.0\n",
    "\n",
    "X_valid, X_train = X_train_full[:5000] / 255.0, X_train_full[5000:] / 255.0\n",
    "y_valid, y_train = y_train_full[:5000], y_train_full[5000:]\n",
    "\n",
    "# get the class names\n",
    "class_names = ['T-shirt/top', 'Trouser', 'Pullover', 'Dress', 'Coat', 'Sandal', 'Shirt', 'Sneaker', 'Bag', 'Ankle boot']\n",
    "print(class_names[y_train[0]])"
   ]
  },
  {
   "cell_type": "code",
   "execution_count": 6,
   "metadata": {},
   "outputs": [],
   "source": [
    "# now build the neural net. classification mlp with 2 hidden layers\n",
    "\n",
    "model = keras.models.Sequential() # create sequential model\n",
    "model.add(keras.layers.Flatten(input_shape=[28, 28])) # convert image into 1d array\n",
    "model.add(keras.layers.Dense(300, activation='relu')) # dense layer, 300 neurons, relu activation\n",
    "model.add(keras.layers.Dense(100, activation='relu')) # dense layer, 100 neurons, relu\n",
    "model.add(keras.layers.Dense(10, activation='softmax')) # 10 output neurons, softmax because exclusivity of class\n",
    "# each dense layer manages its own weight matrix containing all connection weights between the neurons and\n",
    "# their inputs. it also manages a vector of bias terms (one per neuron)"
   ]
  },
  {
   "cell_type": "code",
   "execution_count": 7,
   "metadata": {},
   "outputs": [],
   "source": [
    "# instead of adding layers one by one, we could just do it this way\n",
    "model = keras.models.Sequential([\n",
    "    keras.layers.Flatten(input_shape=[28,28]),\n",
    "    keras.layers.Dense(300, activation='relu'),\n",
    "    keras.layers.Dense(100, activation='relu'),\n",
    "    keras.layers.Dense(10, activation='softmax')\n",
    "])\n"
   ]
  },
  {
   "cell_type": "code",
   "execution_count": 8,
   "metadata": {},
   "outputs": [
    {
     "name": "stdout",
     "output_type": "stream",
     "text": [
      "Model: \"sequential_1\"\n",
      "_________________________________________________________________\n",
      " Layer (type)                Output Shape              Param #   \n",
      "=================================================================\n",
      " flatten_1 (Flatten)         (None, 784)               0         \n",
      "                                                                 \n",
      " dense_3 (Dense)             (None, 300)               235500    \n",
      "                                                                 \n",
      " dense_4 (Dense)             (None, 100)               30100     \n",
      "                                                                 \n",
      " dense_5 (Dense)             (None, 10)                1010      \n",
      "                                                                 \n",
      "=================================================================\n",
      "Total params: 266,610\n",
      "Trainable params: 266,610\n",
      "Non-trainable params: 0\n",
      "_________________________________________________________________\n"
     ]
    }
   ],
   "source": [
    "model.summary()"
   ]
  },
  {
   "cell_type": "code",
   "execution_count": 9,
   "metadata": {},
   "outputs": [],
   "source": [
    "# compile the model\n",
    "model.compile(loss='sparse_categorical_crossentropy',\n",
    "             optimizer='sgd',\n",
    "             metrics=['accuracy'])\n",
    "# use sparse categorical crossentropy because we have sparse labels"
   ]
  },
  {
   "cell_type": "code",
   "execution_count": 11,
   "metadata": {},
   "outputs": [
    {
     "name": "stdout",
     "output_type": "stream",
     "text": [
      "Epoch 1/30\n",
      "1719/1719 [==============================] - 3s 2ms/step - loss: 0.7259 - accuracy: 0.7622 - val_loss: 0.5389 - val_accuracy: 0.8220\n",
      "Epoch 2/30\n",
      "1719/1719 [==============================] - 3s 1ms/step - loss: 0.4896 - accuracy: 0.8289 - val_loss: 0.4665 - val_accuracy: 0.8406\n",
      "Epoch 3/30\n",
      "1719/1719 [==============================] - 2s 1ms/step - loss: 0.4474 - accuracy: 0.8433 - val_loss: 0.4302 - val_accuracy: 0.8550\n",
      "Epoch 4/30\n",
      "1719/1719 [==============================] - 3s 1ms/step - loss: 0.4191 - accuracy: 0.8527 - val_loss: 0.4006 - val_accuracy: 0.8648\n",
      "Epoch 5/30\n",
      "1719/1719 [==============================] - 2s 1ms/step - loss: 0.3992 - accuracy: 0.8606 - val_loss: 0.3932 - val_accuracy: 0.8638\n",
      "Epoch 6/30\n",
      "1719/1719 [==============================] - 2s 1ms/step - loss: 0.3826 - accuracy: 0.8651 - val_loss: 0.3796 - val_accuracy: 0.8662\n",
      "Epoch 7/30\n",
      "1719/1719 [==============================] - 2s 1ms/step - loss: 0.3685 - accuracy: 0.8707 - val_loss: 0.3816 - val_accuracy: 0.8668\n",
      "Epoch 8/30\n",
      "1719/1719 [==============================] - 3s 2ms/step - loss: 0.3570 - accuracy: 0.8730 - val_loss: 0.3712 - val_accuracy: 0.8672\n",
      "Epoch 9/30\n",
      "1719/1719 [==============================] - 2s 1ms/step - loss: 0.3462 - accuracy: 0.8770 - val_loss: 0.3723 - val_accuracy: 0.8682\n",
      "Epoch 10/30\n",
      "1719/1719 [==============================] - 3s 1ms/step - loss: 0.3370 - accuracy: 0.8810 - val_loss: 0.3418 - val_accuracy: 0.8812\n",
      "Epoch 11/30\n",
      "1719/1719 [==============================] - 3s 2ms/step - loss: 0.3282 - accuracy: 0.8818 - val_loss: 0.3390 - val_accuracy: 0.8790\n",
      "Epoch 12/30\n",
      "1719/1719 [==============================] - 3s 1ms/step - loss: 0.3205 - accuracy: 0.8863 - val_loss: 0.3296 - val_accuracy: 0.8818\n",
      "Epoch 13/30\n",
      "1719/1719 [==============================] - 2s 1ms/step - loss: 0.3134 - accuracy: 0.8883 - val_loss: 0.3286 - val_accuracy: 0.8824\n",
      "Epoch 14/30\n",
      "1719/1719 [==============================] - 3s 1ms/step - loss: 0.3065 - accuracy: 0.8896 - val_loss: 0.3335 - val_accuracy: 0.8858\n",
      "Epoch 15/30\n",
      "1719/1719 [==============================] - 2s 1ms/step - loss: 0.2990 - accuracy: 0.8925 - val_loss: 0.3306 - val_accuracy: 0.8812\n",
      "Epoch 16/30\n",
      "1719/1719 [==============================] - 2s 1ms/step - loss: 0.2938 - accuracy: 0.8934 - val_loss: 0.3203 - val_accuracy: 0.8822\n",
      "Epoch 17/30\n",
      "1719/1719 [==============================] - 3s 1ms/step - loss: 0.2881 - accuracy: 0.8962 - val_loss: 0.3231 - val_accuracy: 0.8856\n",
      "Epoch 18/30\n",
      "1719/1719 [==============================] - 3s 1ms/step - loss: 0.2820 - accuracy: 0.8977 - val_loss: 0.3177 - val_accuracy: 0.8848\n",
      "Epoch 19/30\n",
      "1719/1719 [==============================] - 2s 1ms/step - loss: 0.2774 - accuracy: 0.9003 - val_loss: 0.3197 - val_accuracy: 0.8856\n",
      "Epoch 20/30\n",
      "1719/1719 [==============================] - 3s 1ms/step - loss: 0.2724 - accuracy: 0.9017 - val_loss: 0.3132 - val_accuracy: 0.8874\n",
      "Epoch 21/30\n",
      "1719/1719 [==============================] - 3s 2ms/step - loss: 0.2667 - accuracy: 0.9035 - val_loss: 0.3133 - val_accuracy: 0.8896\n",
      "Epoch 22/30\n",
      "1719/1719 [==============================] - 4s 2ms/step - loss: 0.2627 - accuracy: 0.9051 - val_loss: 0.3134 - val_accuracy: 0.8866\n",
      "Epoch 23/30\n",
      "1719/1719 [==============================] - 4s 2ms/step - loss: 0.2580 - accuracy: 0.9074 - val_loss: 0.3034 - val_accuracy: 0.8906\n",
      "Epoch 24/30\n",
      "1719/1719 [==============================] - 3s 2ms/step - loss: 0.2530 - accuracy: 0.9089 - val_loss: 0.2978 - val_accuracy: 0.8946\n",
      "Epoch 25/30\n",
      "1719/1719 [==============================] - 3s 2ms/step - loss: 0.2487 - accuracy: 0.9092 - val_loss: 0.3072 - val_accuracy: 0.8916\n",
      "Epoch 26/30\n",
      "1719/1719 [==============================] - 3s 1ms/step - loss: 0.2445 - accuracy: 0.9120 - val_loss: 0.2941 - val_accuracy: 0.8960\n",
      "Epoch 27/30\n",
      "1719/1719 [==============================] - 3s 2ms/step - loss: 0.2419 - accuracy: 0.9117 - val_loss: 0.3105 - val_accuracy: 0.8892\n",
      "Epoch 28/30\n",
      "1719/1719 [==============================] - 3s 1ms/step - loss: 0.2364 - accuracy: 0.9146 - val_loss: 0.3073 - val_accuracy: 0.8894\n",
      "Epoch 29/30\n",
      "1719/1719 [==============================] - 3s 1ms/step - loss: 0.2322 - accuracy: 0.9162 - val_loss: 0.2962 - val_accuracy: 0.8904\n",
      "Epoch 30/30\n",
      "1719/1719 [==============================] - 3s 1ms/step - loss: 0.2286 - accuracy: 0.9177 - val_loss: 0.2946 - val_accuracy: 0.8964\n",
      "<keras.callbacks.History object at 0x7fe32817eeb0>\n"
     ]
    }
   ],
   "source": [
    "# now to train the model\n",
    "\n",
    "history = model.fit(X_train, y_train, epochs=30, \n",
    "                   validation_data=(X_valid, y_valid))\n",
    "print(history)"
   ]
  },
  {
   "cell_type": "code",
   "execution_count": 12,
   "metadata": {},
   "outputs": [
    {
     "data": {
      "image/png": "[encoded data removed]",
      "text/plain": [
       "<Figure size 576x360 with 1 Axes>"
      ]
     },
     "metadata": {
      "needs_background": "light"
     },
     "output_type": "display_data"
    }
   ],
   "source": [
    "# take a closer look at the model history\n",
    "import pandas as pd\n",
    "import matplotlib.pyplot as plt\n",
    "\n",
    "pd.DataFrame(history.history).plot(figsize=(8, 5))\n",
    "plt.grid(True)\n",
    "plt.gca().set_ylim(0, 1)\n",
    "plt.show()"
   ]
  },
  {
   "cell_type": "code",
   "execution_count": 1,
   "metadata": {},
   "outputs": [
    {
     "ename": "NameError",
     "evalue": "name 'model' is not defined",
     "output_type": "error",
     "traceback": [
      "\u001b[0;31m---------------------------------------------------------------------------\u001b[0m",
      "\u001b[0;31mNameError\u001b[0m                                 Traceback (most recent call last)",
      "\u001b[0;32m<ipython-input-1-1645411b72ac>\u001b[0m in \u001b[0;36m<module>\u001b[0;34m\u001b[0m\n\u001b[1;32m      1\u001b[0m \u001b[0;31m# evaluate on the test set\u001b[0m\u001b[0;34m\u001b[0m\u001b[0;34m\u001b[0m\u001b[0;34m\u001b[0m\u001b[0m\n\u001b[1;32m      2\u001b[0m \u001b[0;34m\u001b[0m\u001b[0m\n\u001b[0;32m----> 3\u001b[0;31m \u001b[0mmodel\u001b[0m\u001b[0;34m.\u001b[0m\u001b[0mevaluate\u001b[0m\u001b[0;34m(\u001b[0m\u001b[0mX_test\u001b[0m\u001b[0;34m,\u001b[0m \u001b[0my_test\u001b[0m\u001b[0;34m)\u001b[0m\u001b[0;34m\u001b[0m\u001b[0;34m\u001b[0m\u001b[0m\n\u001b[0m",
      "\u001b[0;31mNameError\u001b[0m: name 'model' is not defined"
     ]
    }
   ],
   "source": [
    "# evaluate on the test set\n",
    "\n",
    "model.evaluate(X_test, y_test)"
   ]
  },
  {
   "cell_type": "code",
   "execution_count": 14,
   "metadata": {},
   "outputs": [
    {
     "data": {
      "text/plain": [
       "array([[0., 0., 0., 0., 0., 0., 0., 0., 0., 1.],\n",
       "       [0., 0., 1., 0., 0., 0., 0., 0., 0., 0.],\n",
       "       [0., 1., 0., 0., 0., 0., 0., 0., 0., 0.]], dtype=float32)"
      ]
     },
     "execution_count": 14,
     "metadata": {},
     "output_type": "execute_result"
    }
   ],
   "source": [
    "# how to use the model to make predictions\n",
    "\n",
    "X_new = X_test[:3]\n",
    "y_proba = model.predict(X_new)\n",
    "y_proba.round(2)"
   ]
  },
  {
   "cell_type": "code",
   "execution_count": 9,
   "metadata": {},
   "outputs": [],
   "source": [
    "# building regression ann\n",
    "\n",
    "from sklearn.datasets import fetch_california_housing\n",
    "from sklearn.model_selection import train_test_split\n",
    "from sklearn.preprocessing import StandardScaler\n",
    "\n",
    "housing = fetch_california_housing()\n",
    "\n",
    "X_train_full, X_test, y_train_full, y_test = train_test_split(housing.data, housing.target)\n",
    "X_train, X_valid, y_train, y_valid = train_test_split(X_train_full, y_train_full)\n",
    "\n",
    "scaler = StandardScaler()\n",
    "X_train = scaler.fit_transform(X_train)\n",
    "X_valid = scaler.fit_transform(X_valid)\n",
    "X_test = scaler.fit_transform(X_test)"
   ]
  },
  {
   "cell_type": "code",
   "execution_count": 4,
   "metadata": {},
   "outputs": [
    {
     "name": "stdout",
     "output_type": "stream",
     "text": [
      "2\n",
      "<keras.layers.core.dense.Dense object at 0x7f813588b3d0>\n"
     ]
    },
    {
     "ename": "AttributeError",
     "evalue": "'list' object has no attribute 'compile'",
     "output_type": "error",
     "traceback": [
      "\u001b[0;31m---------------------------------------------------------------------------\u001b[0m",
      "\u001b[0;31mAttributeError\u001b[0m                            Traceback (most recent call last)",
      "\u001b[0;32m<ipython-input-4-e14254928f7f>\u001b[0m in \u001b[0;36m<module>\u001b[0;34m\u001b[0m\n\u001b[1;32m     12\u001b[0m \u001b[0mprint\u001b[0m\u001b[0;34m(\u001b[0m\u001b[0mmodel\u001b[0m\u001b[0;34m[\u001b[0m\u001b[0;36m0\u001b[0m\u001b[0;34m]\u001b[0m\u001b[0;34m)\u001b[0m\u001b[0;34m\u001b[0m\u001b[0;34m\u001b[0m\u001b[0m\n\u001b[1;32m     13\u001b[0m \u001b[0;31m# use mse loss for regression\u001b[0m\u001b[0;34m\u001b[0m\u001b[0;34m\u001b[0m\u001b[0;34m\u001b[0m\u001b[0m\n\u001b[0;32m---> 14\u001b[0;31m \u001b[0mmodel\u001b[0m\u001b[0;34m.\u001b[0m\u001b[0mcompile\u001b[0m\u001b[0;34m(\u001b[0m\u001b[0mloss\u001b[0m\u001b[0;34m=\u001b[0m\u001b[0;34m'mean_squared_error'\u001b[0m\u001b[0;34m,\u001b[0m \u001b[0moptimizer\u001b[0m\u001b[0;34m=\u001b[0m\u001b[0;34m'sgd'\u001b[0m\u001b[0;34m)\u001b[0m\u001b[0;34m\u001b[0m\u001b[0;34m\u001b[0m\u001b[0m\n\u001b[0m\u001b[1;32m     15\u001b[0m history = model.fit(X_train, y_train, epochs=20,\n\u001b[1;32m     16\u001b[0m                    validation_data=(X_valid, y_valid))\n",
      "\u001b[0;31mAttributeError\u001b[0m: 'list' object has no attribute 'compile'"
     ]
    }
   ],
   "source": [
    "import tensorflow as tf\n",
    "from tensorflow import keras\n",
    "# only one output neuron for regression with no activation function\n",
    "\n",
    "# we will use only 1 hidden layer with a small number of neurons to avoid overfitting this noisy dataset\n",
    "\n",
    "model = keras.models.Sequential = ([\n",
    "    keras.layers.Dense(30, activation='relu', input_shape=X_train.shape[1:]),\n",
    "    keras.layers.Dense(1)\n",
    "])\n",
    "print(len(model))\n",
    "print(model[0])\n",
    "# use mse loss for regression\n",
    "model.compile(loss='mean_squared_error', optimizer='sgd')\n",
    "history = model.fit(X_train, y_train, epochs=20,\n",
    "                   validation_data=(X_valid, y_valid))\n",
    "mse_test = model.evaluate(X_test, y_test)\n",
    "X_new = X_test[:3]\n",
    "y_pred = model.predict(X_new)"
   ]
  },
  {
   "cell_type": "code",
   "execution_count": 12,
   "metadata": {},
   "outputs": [
    {
     "name": "stdout",
     "output_type": "stream",
     "text": [
      "(11610, 8)\n"
     ]
    }
   ],
   "source": [
    "# keras functional api\n",
    "\n",
    "# wide and deep neural network to allow input reach end without being distorted\n",
    "# we will get the complex patterns from the deeper hidden layers and the \n",
    "# simple patterns from feeding the input layer to the concat layer\n",
    "print(X_train.shape)\n",
    "input_ = keras.layers.Input(shape=X_train.shape[1:])\n",
    "hidden1 = keras.layers.Dense(30, activation='relu')(input_)\n",
    "hidden2 = keras.layers.Dense(30, activation='relu')(hidden1)\n",
    "concat = keras.layers.concatenate([input_, hidden2])\n",
    "output = keras.layers.Dense(1)(concat)\n",
    "model = keras.Model(inputs=[input_], outputs=[output])"
   ]
  },
  {
   "cell_type": "code",
   "execution_count": 14,
   "metadata": {},
   "outputs": [],
   "source": [
    "# what if we wanted to subset the features so that some go wide and some go deep of the hidden layers?\n",
    "\n",
    "input_A = keras.layers.Input(shape=[5], name='wide_input')\n",
    "input_B = keras.layers.Input(shape=[6], name='deep_input')\n",
    "hidden1 = keras.layers.Dense(30, activation='relu')(input_B)\n",
    "hidden2 = keras.layers.Dense(30, activation='relu')(hidden1)\n",
    "concat = keras.layers.concatenate([input_A, hidden2])\n",
    "output = keras.layers.Dense(1, name='output')(concat)\n",
    "model = keras.Model(inputs=[input_A, input_B], outputs=[output])"
   ]
  },
  {
   "cell_type": "code",
   "execution_count": 16,
   "metadata": {},
   "outputs": [
    {
     "name": "stderr",
     "output_type": "stream",
     "text": [
      "/home/frel/anaconda3/lib/python3.8/site-packages/keras/optimizer_v2/gradient_descent.py:102: UserWarning: The `lr` argument is deprecated, use `learning_rate` instead.\n",
      "  super(SGD, self).__init__(name, **kwargs)\n"
     ]
    },
    {
     "name": "stdout",
     "output_type": "stream",
     "text": [
      "Epoch 1/20\n",
      "363/363 [==============================] - 1s 1ms/step - loss: 2.2119 - val_loss: 0.9806\n",
      "Epoch 2/20\n",
      "363/363 [==============================] - 0s 828us/step - loss: 0.8013 - val_loss: 0.6883\n",
      "Epoch 3/20\n",
      "363/363 [==============================] - 0s 882us/step - loss: 0.6343 - val_loss: 0.6115\n",
      "Epoch 4/20\n",
      "363/363 [==============================] - 0s 821us/step - loss: 0.5821 - val_loss: 0.5716\n",
      "Epoch 5/20\n",
      "363/363 [==============================] - 0s 1ms/step - loss: 0.5501 - val_loss: 0.5495\n",
      "Epoch 6/20\n",
      "363/363 [==============================] - 0s 828us/step - loss: 0.5285 - val_loss: 0.5241\n",
      "Epoch 7/20\n",
      "363/363 [==============================] - 0s 849us/step - loss: 0.5117 - val_loss: 0.5070\n",
      "Epoch 8/20\n",
      "363/363 [==============================] - 0s 839us/step - loss: 0.4993 - val_loss: 0.4961\n",
      "Epoch 9/20\n",
      "363/363 [==============================] - 0s 831us/step - loss: 0.4903 - val_loss: 0.4882\n",
      "Epoch 10/20\n",
      "363/363 [==============================] - 0s 854us/step - loss: 0.4829 - val_loss: 0.4848\n",
      "Epoch 11/20\n",
      "363/363 [==============================] - 0s 838us/step - loss: 0.4779 - val_loss: 0.4750\n",
      "Epoch 12/20\n",
      "363/363 [==============================] - 0s 1ms/step - loss: 0.4732 - val_loss: 0.4704\n",
      "Epoch 13/20\n",
      "363/363 [==============================] - 0s 832us/step - loss: 0.4701 - val_loss: 0.4702\n",
      "Epoch 14/20\n",
      "363/363 [==============================] - 0s 861us/step - loss: 0.4672 - val_loss: 0.4674\n",
      "Epoch 15/20\n",
      "363/363 [==============================] - 0s 838us/step - loss: 0.4648 - val_loss: 0.4661\n",
      "Epoch 16/20\n",
      "363/363 [==============================] - 0s 834us/step - loss: 0.4627 - val_loss: 0.4635\n",
      "Epoch 17/20\n",
      "363/363 [==============================] - 0s 816us/step - loss: 0.4605 - val_loss: 0.4614\n",
      "Epoch 18/20\n",
      "363/363 [==============================] - 0s 817us/step - loss: 0.4590 - val_loss: 0.4635\n",
      "Epoch 19/20\n",
      "363/363 [==============================] - 0s 841us/step - loss: 0.4571 - val_loss: 0.4596\n",
      "Epoch 20/20\n",
      "363/363 [==============================] - 0s 837us/step - loss: 0.4557 - val_loss: 0.4620\n",
      "162/162 [==============================] - 0s 585us/step - loss: 0.5043\n"
     ]
    }
   ],
   "source": [
    "# now we must pass the model a pair of matrices A and B\n",
    "\n",
    "model.compile(loss='mse', optimizer=keras.optimizers.SGD(lr=1e-3))\n",
    "\n",
    "X_train_A, X_train_B = X_train[:, :5], X_train[:, 2:]\n",
    "X_valid_A, X_valid_B = X_valid[:, :5], X_valid[:, 2:]\n",
    "X_test_A, X_test_B = X_test[:, :5], X_test[:, 2:]\n",
    "X_new_A, X_new_B = X_test_A[:3], X_test_B[:3]\n",
    "\n",
    "history = model.fit((X_train_A, X_train_B), y_train, epochs=20,\n",
    "                   validation_data=((X_valid_A, X_valid_B), y_valid))\n",
    "mse_test = model.evaluate((X_test_A, X_test_B), y_test)\n",
    "y_pred = model.predict((X_new_A, X_new_B))"
   ]
  },
  {
   "cell_type": "code",
   "execution_count": 18,
   "metadata": {},
   "outputs": [
    {
     "name": "stdout",
     "output_type": "stream",
     "text": [
      "Epoch 1/20\n",
      "363/363 [==============================] - 1s 2ms/step - loss: 0.8193 - main_output_loss: 0.7683 - aux_output_loss: 1.2780 - val_loss: 0.5092 - val_main_output_loss: 0.4737 - val_aux_output_loss: 0.8288\n",
      "Epoch 2/20\n",
      "363/363 [==============================] - 1s 1ms/step - loss: 0.4844 - main_output_loss: 0.4512 - aux_output_loss: 0.7835 - val_loss: 0.5729 - val_main_output_loss: 0.5462 - val_aux_output_loss: 0.8131\n",
      "Epoch 3/20\n",
      "363/363 [==============================] - 0s 936us/step - loss: 0.4642 - main_output_loss: 0.4369 - aux_output_loss: 0.7100 - val_loss: 0.6004 - val_main_output_loss: 0.5766 - val_aux_output_loss: 0.8144\n",
      "Epoch 4/20\n",
      "363/363 [==============================] - 0s 972us/step - loss: 0.4513 - main_output_loss: 0.4274 - aux_output_loss: 0.6659 - val_loss: 0.6593 - val_main_output_loss: 0.6371 - val_aux_output_loss: 0.8590\n",
      "Epoch 5/20\n",
      "363/363 [==============================] - 0s 949us/step - loss: 0.4439 - main_output_loss: 0.4224 - aux_output_loss: 0.6379 - val_loss: 0.7316 - val_main_output_loss: 0.7081 - val_aux_output_loss: 0.9434\n",
      "Epoch 6/20\n",
      "363/363 [==============================] - 0s 980us/step - loss: 0.4322 - main_output_loss: 0.4115 - aux_output_loss: 0.6189 - val_loss: 0.8232 - val_main_output_loss: 0.7968 - val_aux_output_loss: 1.0605\n",
      "Epoch 7/20\n",
      "363/363 [==============================] - 0s 975us/step - loss: 0.4292 - main_output_loss: 0.4099 - aux_output_loss: 0.6031 - val_loss: 0.9101 - val_main_output_loss: 0.8851 - val_aux_output_loss: 1.1347\n",
      "Epoch 8/20\n",
      "363/363 [==============================] - 0s 986us/step - loss: 0.4174 - main_output_loss: 0.3984 - aux_output_loss: 0.5878 - val_loss: 1.0162 - val_main_output_loss: 0.9869 - val_aux_output_loss: 1.2805\n",
      "Epoch 9/20\n",
      "363/363 [==============================] - 0s 971us/step - loss: 0.4093 - main_output_loss: 0.3907 - aux_output_loss: 0.5769 - val_loss: 1.1615 - val_main_output_loss: 1.1314 - val_aux_output_loss: 1.4324\n",
      "Epoch 10/20\n",
      "363/363 [==============================] - 0s 1ms/step - loss: 0.4033 - main_output_loss: 0.3853 - aux_output_loss: 0.5649 - val_loss: 1.4309 - val_main_output_loss: 1.4037 - val_aux_output_loss: 1.6759\n",
      "Epoch 11/20\n",
      "363/363 [==============================] - 0s 982us/step - loss: 0.4005 - main_output_loss: 0.3830 - aux_output_loss: 0.5574 - val_loss: 1.5609 - val_main_output_loss: 1.5339 - val_aux_output_loss: 1.8047\n",
      "Epoch 12/20\n",
      "363/363 [==============================] - 0s 968us/step - loss: 0.3966 - main_output_loss: 0.3797 - aux_output_loss: 0.5490 - val_loss: 1.7640 - val_main_output_loss: 1.7338 - val_aux_output_loss: 2.0354\n",
      "Epoch 13/20\n",
      "363/363 [==============================] - 1s 1ms/step - loss: 0.3888 - main_output_loss: 0.3719 - aux_output_loss: 0.5410 - val_loss: 1.9590 - val_main_output_loss: 1.9254 - val_aux_output_loss: 2.2611\n",
      "Epoch 14/20\n",
      "363/363 [==============================] - 0s 950us/step - loss: 0.3841 - main_output_loss: 0.3676 - aux_output_loss: 0.5321 - val_loss: 2.1429 - val_main_output_loss: 2.1108 - val_aux_output_loss: 2.4320\n",
      "Epoch 15/20\n",
      "363/363 [==============================] - 0s 972us/step - loss: 0.3788 - main_output_loss: 0.3627 - aux_output_loss: 0.5235 - val_loss: 2.7363 - val_main_output_loss: 2.7144 - val_aux_output_loss: 2.9336\n",
      "Epoch 16/20\n",
      "363/363 [==============================] - 0s 983us/step - loss: 0.3775 - main_output_loss: 0.3620 - aux_output_loss: 0.5171 - val_loss: 2.7906 - val_main_output_loss: 2.7633 - val_aux_output_loss: 3.0369\n",
      "Epoch 17/20\n",
      "363/363 [==============================] - 0s 966us/step - loss: 0.3711 - main_output_loss: 0.3555 - aux_output_loss: 0.5117 - val_loss: 3.1442 - val_main_output_loss: 3.1246 - val_aux_output_loss: 3.3211\n",
      "Epoch 18/20\n",
      "363/363 [==============================] - 0s 994us/step - loss: 0.3735 - main_output_loss: 0.3586 - aux_output_loss: 0.5075 - val_loss: 3.3949 - val_main_output_loss: 3.3797 - val_aux_output_loss: 3.5320\n",
      "Epoch 19/20\n",
      "363/363 [==============================] - 0s 981us/step - loss: 0.3629 - main_output_loss: 0.3481 - aux_output_loss: 0.4960 - val_loss: 3.8144 - val_main_output_loss: 3.8082 - val_aux_output_loss: 3.8705\n",
      "Epoch 20/20\n",
      "363/363 [==============================] - 0s 951us/step - loss: 0.3693 - main_output_loss: 0.3549 - aux_output_loss: 0.4984 - val_loss: 3.9279 - val_main_output_loss: 3.9270 - val_aux_output_loss: 3.9364\n"
     ]
    }
   ],
   "source": [
    "# what if you want to output a layer for regularization?\n",
    "\n",
    "output = keras.layers.Dense(1, name='main_output')(concat)\n",
    "aux_output = keras.layers.Dense(1, name='aux_output')(hidden2)\n",
    "model = keras.Model(inputs=[input_A, input_B], outputs=[output, aux_output])\n",
    "# have to pass multiple loss functions and loss weights now\n",
    "\n",
    "model.compile(loss=['mse', 'mse'], loss_weights=[.9, .1], optimizer='sgd')\n",
    "\n",
    "history = model.fit(\n",
    "    [X_train_A, X_train_B], [y_train, y_train], epochs=20,\n",
    "    validation_data=([X_valid_A, X_valid_B], [y_valid, y_valid]))"
   ]
  },
  {
   "cell_type": "code",
   "execution_count": 19,
   "metadata": {},
   "outputs": [
    {
     "name": "stdout",
     "output_type": "stream",
     "text": [
      "162/162 [==============================] - 0s 722us/step - loss: 8.3940 - main_output_loss: 8.3772 - aux_output_loss: 8.5455\n"
     ]
    }
   ],
   "source": [
    "# predict will return predictions for each output\n",
    "\n",
    "total_loss, main_loss, aux_loss = model.evaluate(\n",
    "    [X_test_A, X_test_B], [y_test, y_test])"
   ]
  },
  {
   "cell_type": "code",
   "execution_count": null,
   "metadata": {},
   "outputs": [],
   "source": []
  }
 ],
 "metadata": {
  "kernelspec": {
   "display_name": "Python 3",
   "language": "python",
   "name": "python3"
  },
  "language_info": {
   "codemirror_mode": {
    "name": "ipython",
    "version": 3
   },
   "file_extension": ".py",
   "mimetype": "text/x-python",
   "name": "python",
   "nbconvert_exporter": "python",
   "pygments_lexer": "ipython3",
   "version": "3.8.5"
  }
 },
 "nbformat": 4,
 "nbformat_minor": 4
}
