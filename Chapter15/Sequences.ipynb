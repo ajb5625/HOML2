{
 "cells": [
  {
   "cell_type": "code",
   "execution_count": null,
   "metadata": {},
   "outputs": [],
   "source": [
    "# time series doesn't have to be of a certain length\n",
    "\n",
    "# to train an rnn, unroll through time and backpropagate\n",
    "# backpropagation through time\n",
    "\n",
    "# examples\n",
    "# sequence to sequence rnn takes one sequence and outputs another ie stocks shifted 1 day in future\n",
    "# sequence to vector : words fed in, score fed out\n",
    "# vector to sequence : image to caption\n",
    "# sequence to vector encoder followed by vector to sequence decoder: language translation\n",
    "\n",
    "# keras will take care of unrolling and backpropagating through time"
   ]
  },
  {
   "cell_type": "code",
   "execution_count": 25,
   "metadata": {},
   "outputs": [],
   "source": [
    "# time series forecasting\n",
    "\n",
    "def generate_time_series(batch_size, n_steps):\n",
    "    freq1, freq2, offsets1, offsets2 = np.random.rand(4, batch_size, 1)\n",
    "    time = np.linspace(0, 1, n_steps)\n",
    "    series = 0.5 * np.sin((time - offsets1) * (freq1 * 10 + 10))  #   wave 1\n",
    "    series += 0.2 * np.sin((time - offsets2) * (freq2 * 20 + 20)) # + wave 2\n",
    "    series += 0.1 * (np.random.rand(batch_size, n_steps) - 0.5)   # + noise\n",
    "    return series[..., np.newaxis].astype(np.float32)"
   ]
  },
  {
   "cell_type": "code",
   "execution_count": 26,
   "metadata": {},
   "outputs": [
    {
     "data": {
      "text/plain": [
       "0.020211367"
      ]
     },
     "execution_count": 26,
     "metadata": {},
     "output_type": "execute_result"
    }
   ],
   "source": [
    "import numpy as np\n",
    "import tensorflow as tf\n",
    "from tensorflow import keras\n",
    "\n",
    "np.random.seed(42)\n",
    "\n",
    "n_steps = 50\n",
    "series = generate_time_series(10000, n_steps + 1)\n",
    "X_train, y_train = series[:7000, :n_steps], series[:7000, -1]\n",
    "X_valid, y_valid = series[7000:9000, :n_steps], series[7000:9000, -1]\n",
    "X_test, y_test = series[9000:, :n_steps], series[9000:, -1]\n",
    "\n",
    "# first, lets make sure we have a baseline\n",
    "# lets just predict the last value in our training time series\n",
    "\n",
    "y_pred = X_valid[:, -1]\n",
    "np.mean(keras.losses.mean_squared_error(y_valid, y_pred))"
   ]
  },
  {
   "cell_type": "code",
   "execution_count": 27,
   "metadata": {},
   "outputs": [
    {
     "name": "stdout",
     "output_type": "stream",
     "text": [
      "Epoch 1/20\n",
      "219/219 [==============================] - 0s 1ms/step - loss: 0.1365 - val_loss: 0.0697\n",
      "Epoch 2/20\n",
      "219/219 [==============================] - 0s 958us/step - loss: 0.0475 - val_loss: 0.0326\n",
      "Epoch 3/20\n",
      "219/219 [==============================] - 0s 2ms/step - loss: 0.0246 - val_loss: 0.0187\n",
      "Epoch 4/20\n",
      "219/219 [==============================] - 0s 794us/step - loss: 0.0156 - val_loss: 0.0134\n",
      "Epoch 5/20\n",
      "219/219 [==============================] - 0s 779us/step - loss: 0.0120 - val_loss: 0.0111\n",
      "Epoch 6/20\n",
      "219/219 [==============================] - 0s 748us/step - loss: 0.0102 - val_loss: 0.0099\n",
      "Epoch 7/20\n",
      "219/219 [==============================] - 0s 746us/step - loss: 0.0092 - val_loss: 0.0090\n",
      "Epoch 8/20\n",
      "219/219 [==============================] - 0s 771us/step - loss: 0.0084 - val_loss: 0.0082\n",
      "Epoch 9/20\n",
      "219/219 [==============================] - 0s 762us/step - loss: 0.0077 - val_loss: 0.0076\n",
      "Epoch 10/20\n",
      "219/219 [==============================] - 0s 756us/step - loss: 0.0072 - val_loss: 0.0071\n",
      "Epoch 11/20\n",
      "219/219 [==============================] - 0s 757us/step - loss: 0.0067 - val_loss: 0.0066\n",
      "Epoch 12/20\n",
      "219/219 [==============================] - 0s 764us/step - loss: 0.0063 - val_loss: 0.0063\n",
      "Epoch 13/20\n",
      "219/219 [==============================] - 0s 745us/step - loss: 0.0060 - val_loss: 0.0059\n",
      "Epoch 14/20\n",
      "219/219 [==============================] - 0s 767us/step - loss: 0.0057 - val_loss: 0.0057\n",
      "Epoch 15/20\n",
      "219/219 [==============================] - 0s 810us/step - loss: 0.0055 - val_loss: 0.0054\n",
      "Epoch 16/20\n",
      "219/219 [==============================] - 0s 819us/step - loss: 0.0053 - val_loss: 0.0055\n",
      "Epoch 17/20\n",
      "219/219 [==============================] - 0s 771us/step - loss: 0.0051 - val_loss: 0.0051\n",
      "Epoch 18/20\n",
      "219/219 [==============================] - 0s 751us/step - loss: 0.0049 - val_loss: 0.0049\n",
      "Epoch 19/20\n",
      "219/219 [==============================] - 0s 764us/step - loss: 0.0048 - val_loss: 0.0049\n",
      "Epoch 20/20\n",
      "219/219 [==============================] - 0s 767us/step - loss: 0.0046 - val_loss: 0.0046\n"
     ]
    }
   ],
   "source": [
    "# lets use simple model\n",
    "\n",
    "model = keras.models.Sequential([\n",
    "    keras.layers.Flatten(input_shape=[50, 1]),\n",
    "    keras.layers.Dense(1)\n",
    "])\n",
    "model.compile(loss='mse', optimizer='adam')\n",
    "history = model.fit(X_train, y_train, epochs=20,\n",
    "                    validation_data=(X_valid, y_valid))\n"
   ]
  },
  {
   "cell_type": "code",
   "execution_count": 28,
   "metadata": {},
   "outputs": [
    {
     "name": "stdout",
     "output_type": "stream",
     "text": [
      "Epoch 1/20\n",
      "219/219 [==============================] - 1s 5ms/step - loss: 0.0967 - val_loss: 0.0489\n",
      "Epoch 2/20\n",
      "219/219 [==============================] - 1s 4ms/step - loss: 0.0369 - val_loss: 0.0296\n",
      "Epoch 3/20\n",
      "219/219 [==============================] - 1s 4ms/step - loss: 0.0253 - val_loss: 0.0218\n",
      "Epoch 4/20\n",
      "219/219 [==============================] - 1s 4ms/step - loss: 0.0198 - val_loss: 0.0177\n",
      "Epoch 5/20\n",
      "219/219 [==============================] - 1s 4ms/step - loss: 0.0166 - val_loss: 0.0151\n",
      "Epoch 6/20\n",
      "219/219 [==============================] - 1s 4ms/step - loss: 0.0146 - val_loss: 0.0134\n",
      "Epoch 7/20\n",
      "219/219 [==============================] - 1s 4ms/step - loss: 0.0132 - val_loss: 0.0123\n",
      "Epoch 8/20\n",
      "219/219 [==============================] - 1s 5ms/step - loss: 0.0124 - val_loss: 0.0116\n",
      "Epoch 9/20\n",
      "219/219 [==============================] - 1s 4ms/step - loss: 0.0118 - val_loss: 0.0112\n",
      "Epoch 10/20\n",
      "219/219 [==============================] - 1s 4ms/step - loss: 0.0116 - val_loss: 0.0110\n",
      "Epoch 11/20\n",
      "219/219 [==============================] - 1s 4ms/step - loss: 0.0114 - val_loss: 0.0109\n",
      "Epoch 12/20\n",
      "219/219 [==============================] - 1s 4ms/step - loss: 0.0114 - val_loss: 0.0109\n",
      "Epoch 13/20\n",
      "219/219 [==============================] - 1s 4ms/step - loss: 0.0114 - val_loss: 0.0109\n",
      "Epoch 14/20\n",
      "219/219 [==============================] - 1s 4ms/step - loss: 0.0114 - val_loss: 0.0109\n",
      "Epoch 15/20\n",
      "219/219 [==============================] - 1s 5ms/step - loss: 0.0114 - val_loss: 0.0109\n",
      "Epoch 16/20\n",
      "219/219 [==============================] - 1s 4ms/step - loss: 0.0114 - val_loss: 0.0109\n",
      "Epoch 17/20\n",
      "219/219 [==============================] - 1s 5ms/step - loss: 0.0114 - val_loss: 0.0109\n",
      "Epoch 18/20\n",
      "219/219 [==============================] - 1s 4ms/step - loss: 0.0114 - val_loss: 0.0109\n",
      "Epoch 19/20\n",
      "219/219 [==============================] - 1s 4ms/step - loss: 0.0114 - val_loss: 0.0109\n",
      "Epoch 20/20\n",
      "219/219 [==============================] - 1s 4ms/step - loss: 0.0114 - val_loss: 0.0109\n"
     ]
    }
   ],
   "source": [
    "# lets do a simple rnn\n",
    "\n",
    "np.random.seed(42)\n",
    "tf.random.set_seed(42)\n",
    "\n",
    "model = keras.models.Sequential([\n",
    "    keras.layers.SimpleRNN(1, input_shape=[None, 1])\n",
    "])\n",
    "\n",
    "optimizer = keras.optimizers.Adam(learning_rate=0.005)\n",
    "model.compile(loss=\"mse\", optimizer=optimizer)\n",
    "history = model.fit(X_train, y_train, epochs=20,\n",
    "                    validation_data=(X_valid, y_valid))"
   ]
  },
  {
   "cell_type": "code",
   "execution_count": 34,
   "metadata": {},
   "outputs": [
    {
     "name": "stdout",
     "output_type": "stream",
     "text": [
      "Epoch 1/50\n",
      "219/219 [==============================] - 4s 13ms/step - loss: 0.0492 - val_loss: 0.0090\n",
      "Epoch 2/50\n",
      "219/219 [==============================] - 3s 12ms/step - loss: 0.0070 - val_loss: 0.0065\n",
      "Epoch 3/50\n",
      "219/219 [==============================] - 3s 11ms/step - loss: 0.0053 - val_loss: 0.0045\n",
      "Epoch 4/50\n",
      "219/219 [==============================] - 3s 12ms/step - loss: 0.0045 - val_loss: 0.0040\n",
      "Epoch 5/50\n",
      "219/219 [==============================] - 3s 13ms/step - loss: 0.0042 - val_loss: 0.0040\n",
      "Epoch 6/50\n",
      "219/219 [==============================] - 3s 12ms/step - loss: 0.0038 - val_loss: 0.0036\n",
      "Epoch 7/50\n",
      "219/219 [==============================] - 3s 12ms/step - loss: 0.0038 - val_loss: 0.0040\n",
      "Epoch 8/50\n",
      "219/219 [==============================] - 3s 12ms/step - loss: 0.0037 - val_loss: 0.0033\n",
      "Epoch 9/50\n",
      "219/219 [==============================] - 3s 12ms/step - loss: 0.0036 - val_loss: 0.0032\n",
      "Epoch 10/50\n",
      "219/219 [==============================] - 3s 12ms/step - loss: 0.0035 - val_loss: 0.0031\n",
      "Epoch 11/50\n",
      "219/219 [==============================] - 3s 11ms/step - loss: 0.0034 - val_loss: 0.0030\n",
      "Epoch 12/50\n",
      "219/219 [==============================] - 3s 12ms/step - loss: 0.0033 - val_loss: 0.0031\n",
      "Epoch 13/50\n",
      "219/219 [==============================] - 3s 12ms/step - loss: 0.0034 - val_loss: 0.0031\n",
      "Epoch 14/50\n",
      "219/219 [==============================] - 3s 12ms/step - loss: 0.0033 - val_loss: 0.0032\n",
      "Epoch 15/50\n",
      "219/219 [==============================] - 3s 12ms/step - loss: 0.0034 - val_loss: 0.0033\n",
      "Epoch 16/50\n",
      "219/219 [==============================] - 3s 12ms/step - loss: 0.0035 - val_loss: 0.0030\n",
      "Epoch 17/50\n",
      "219/219 [==============================] - 3s 12ms/step - loss: 0.0033 - val_loss: 0.0029\n",
      "Epoch 18/50\n",
      "219/219 [==============================] - 3s 12ms/step - loss: 0.0033 - val_loss: 0.0030\n",
      "Epoch 19/50\n",
      "219/219 [==============================] - 3s 12ms/step - loss: 0.0032 - val_loss: 0.0029\n",
      "Epoch 20/50\n",
      "219/219 [==============================] - 3s 12ms/step - loss: 0.0032 - val_loss: 0.0029\n",
      "Epoch 21/50\n",
      "219/219 [==============================] - 3s 12ms/step - loss: 0.0032 - val_loss: 0.0036\n",
      "Epoch 22/50\n",
      "219/219 [==============================] - 3s 12ms/step - loss: 0.0032 - val_loss: 0.0029\n",
      "Epoch 23/50\n",
      "219/219 [==============================] - 3s 12ms/step - loss: 0.0031 - val_loss: 0.0028\n",
      "Epoch 24/50\n",
      "219/219 [==============================] - 3s 12ms/step - loss: 0.0031 - val_loss: 0.0031\n",
      "Epoch 25/50\n",
      "219/219 [==============================] - 3s 12ms/step - loss: 0.0031 - val_loss: 0.0028\n",
      "Epoch 26/50\n",
      "219/219 [==============================] - 3s 12ms/step - loss: 0.0031 - val_loss: 0.0028\n",
      "Epoch 27/50\n",
      "219/219 [==============================] - 3s 14ms/step - loss: 0.0030 - val_loss: 0.0028\n",
      "Epoch 28/50\n",
      "219/219 [==============================] - 3s 12ms/step - loss: 0.0030 - val_loss: 0.0031\n",
      "Epoch 29/50\n",
      "219/219 [==============================] - 3s 12ms/step - loss: 0.0030 - val_loss: 0.0031\n",
      "Epoch 30/50\n",
      "219/219 [==============================] - 3s 14ms/step - loss: 0.0030 - val_loss: 0.0028\n",
      "Epoch 31/50\n",
      "219/219 [==============================] - 3s 14ms/step - loss: 0.0030 - val_loss: 0.0027\n",
      "Epoch 32/50\n",
      "219/219 [==============================] - 3s 12ms/step - loss: 0.0030 - val_loss: 0.0026\n",
      "Epoch 33/50\n",
      "219/219 [==============================] - 3s 14ms/step - loss: 0.0029 - val_loss: 0.0027\n",
      "Epoch 34/50\n",
      "219/219 [==============================] - 3s 12ms/step - loss: 0.0030 - val_loss: 0.0026\n",
      "Epoch 35/50\n",
      "219/219 [==============================] - 3s 11ms/step - loss: 0.0029 - val_loss: 0.0028\n",
      "Epoch 36/50\n",
      "219/219 [==============================] - 3s 11ms/step - loss: 0.0029 - val_loss: 0.0026\n",
      "Epoch 37/50\n",
      "219/219 [==============================] - 3s 11ms/step - loss: 0.0029 - val_loss: 0.0029\n",
      "Epoch 38/50\n",
      "219/219 [==============================] - 3s 12ms/step - loss: 0.0028 - val_loss: 0.0027\n",
      "Epoch 39/50\n",
      "219/219 [==============================] - 3s 11ms/step - loss: 0.0029 - val_loss: 0.0025\n",
      "Epoch 40/50\n",
      "219/219 [==============================] - 3s 12ms/step - loss: 0.0027 - val_loss: 0.0029\n",
      "Epoch 41/50\n",
      "219/219 [==============================] - 3s 12ms/step - loss: 0.0028 - val_loss: 0.0026\n",
      "Epoch 42/50\n",
      "219/219 [==============================] - 3s 14ms/step - loss: 0.0029 - val_loss: 0.0027\n",
      "Epoch 43/50\n",
      "219/219 [==============================] - 3s 12ms/step - loss: 0.0027 - val_loss: 0.0027\n",
      "Epoch 44/50\n",
      "219/219 [==============================] - 3s 16ms/step - loss: 0.0027 - val_loss: 0.0026\n",
      "Epoch 45/50\n",
      "219/219 [==============================] - 3s 12ms/step - loss: 0.0026 - val_loss: 0.0023\n",
      "Epoch 46/50\n",
      "219/219 [==============================] - 3s 12ms/step - loss: 0.0026 - val_loss: 0.0026\n",
      "Epoch 47/50\n",
      "219/219 [==============================] - 3s 12ms/step - loss: 0.0026 - val_loss: 0.0027\n",
      "Epoch 48/50\n",
      "219/219 [==============================] - 3s 12ms/step - loss: 0.0026 - val_loss: 0.0024\n",
      "Epoch 49/50\n",
      "219/219 [==============================] - 3s 12ms/step - loss: 0.0025 - val_loss: 0.0024\n",
      "Epoch 50/50\n",
      "219/219 [==============================] - 3s 12ms/step - loss: 0.0025 - val_loss: 0.0023\n"
     ]
    }
   ],
   "source": [
    "# lets make a deep rnn\n",
    "\n",
    "np.random.seed(42)\n",
    "tf.random.set_seed(42)\n",
    "\n",
    "model = keras.models.Sequential([\n",
    "    keras.layers.SimpleRNN(20, return_sequences=True, input_shape=[None, 1]),\n",
    "    keras.layers.SimpleRNN(20, return_sequences=True),\n",
    "    keras.layers.SimpleRNN(1)\n",
    "])\n",
    "\n",
    "model.compile(loss=\"mse\", optimizer=\"adam\")\n",
    "history = model.fit(X_train, y_train, epochs=50,\n",
    "                    validation_data=(X_valid, y_valid))"
   ]
  },
  {
   "cell_type": "code",
   "execution_count": 33,
   "metadata": {},
   "outputs": [
    {
     "name": "stdout",
     "output_type": "stream",
     "text": [
      "Epoch 1/20\n",
      "219/219 [==============================] - 4s 14ms/step - loss: 0.0873 - val_loss: 0.0084\n",
      "Epoch 2/20\n",
      "219/219 [==============================] - 3s 12ms/step - loss: 0.0223 - val_loss: 0.0053\n",
      "Epoch 3/20\n",
      "219/219 [==============================] - 3s 13ms/step - loss: 0.0137 - val_loss: 0.0046\n",
      "Epoch 4/20\n",
      "219/219 [==============================] - 3s 12ms/step - loss: 0.0112 - val_loss: 0.0041\n",
      "Epoch 5/20\n",
      "219/219 [==============================] - 3s 13ms/step - loss: 0.0099 - val_loss: 0.0039\n",
      "Epoch 6/20\n",
      "219/219 [==============================] - 3s 14ms/step - loss: 0.0085 - val_loss: 0.0039\n",
      "Epoch 7/20\n",
      "219/219 [==============================] - 3s 14ms/step - loss: 0.0083 - val_loss: 0.0042\n",
      "Epoch 8/20\n",
      "219/219 [==============================] - 3s 13ms/step - loss: 0.0077 - val_loss: 0.0038\n",
      "Epoch 9/20\n",
      "219/219 [==============================] - 3s 13ms/step - loss: 0.0072 - val_loss: 0.0036\n",
      "Epoch 10/20\n",
      "219/219 [==============================] - 3s 12ms/step - loss: 0.0073 - val_loss: 0.0037\n",
      "Epoch 11/20\n",
      "219/219 [==============================] - 3s 13ms/step - loss: 0.0069 - val_loss: 0.0041\n",
      "Epoch 12/20\n",
      "219/219 [==============================] - 3s 13ms/step - loss: 0.0069 - val_loss: 0.0036\n",
      "Epoch 13/20\n",
      "219/219 [==============================] - 3s 13ms/step - loss: 0.0067 - val_loss: 0.0038\n",
      "Epoch 14/20\n",
      "219/219 [==============================] - 3s 13ms/step - loss: 0.0067 - val_loss: 0.0040\n",
      "Epoch 15/20\n",
      "219/219 [==============================] - 3s 13ms/step - loss: 0.0065 - val_loss: 0.0035\n",
      "Epoch 16/20\n",
      "219/219 [==============================] - 3s 13ms/step - loss: 0.0063 - val_loss: 0.0040\n",
      "Epoch 17/20\n",
      "219/219 [==============================] - 3s 13ms/step - loss: 0.0061 - val_loss: 0.0034\n",
      "Epoch 18/20\n",
      "219/219 [==============================] - 3s 14ms/step - loss: 0.0061 - val_loss: 0.0040\n",
      "Epoch 19/20\n",
      "219/219 [==============================] - 3s 14ms/step - loss: 0.0062 - val_loss: 0.0036\n",
      "Epoch 20/20\n",
      "219/219 [==============================] - 3s 14ms/step - loss: 0.0060 - val_loss: 0.0034\n"
     ]
    }
   ],
   "source": [
    "model = keras.models.Sequential([\n",
    "    keras.layers.SimpleRNN(20, return_sequences=True, input_shape=[None, 1]),\n",
    "    keras.layers.Dropout(.3),\n",
    "    keras.layers.SimpleRNN(20, return_sequences=True),\n",
    "    keras.layers.Dropout(.3),\n",
    "    keras.layers.SimpleRNN(1)\n",
    "])\n",
    "opt = keras.optimizers.Adam(learning_rate=.001)\n",
    "model.compile(loss=\"mse\", optimizer=opt)\n",
    "history = model.fit(X_train, y_train, epochs=20,\n",
    "                    validation_data=(X_valid, y_valid))"
   ]
  },
  {
   "cell_type": "code",
   "execution_count": 35,
   "metadata": {},
   "outputs": [
    {
     "name": "stdout",
     "output_type": "stream",
     "text": [
      "Epoch 1/20\n",
      "219/219 [==============================] - 3s 10ms/step - loss: 0.0232 - val_loss: 0.0052\n",
      "Epoch 2/20\n",
      "219/219 [==============================] - 2s 9ms/step - loss: 0.0043 - val_loss: 0.0036\n",
      "Epoch 3/20\n",
      "219/219 [==============================] - 2s 9ms/step - loss: 0.0035 - val_loss: 0.0031\n",
      "Epoch 4/20\n",
      "219/219 [==============================] - 2s 9ms/step - loss: 0.0033 - val_loss: 0.0033\n",
      "Epoch 5/20\n",
      "219/219 [==============================] - 2s 9ms/step - loss: 0.0033 - val_loss: 0.0034\n",
      "Epoch 6/20\n",
      "219/219 [==============================] - 2s 9ms/step - loss: 0.0031 - val_loss: 0.0029\n",
      "Epoch 7/20\n",
      "219/219 [==============================] - 2s 9ms/step - loss: 0.0031 - val_loss: 0.0034\n",
      "Epoch 8/20\n",
      "219/219 [==============================] - 2s 9ms/step - loss: 0.0032 - val_loss: 0.0028\n",
      "Epoch 9/20\n",
      "219/219 [==============================] - 2s 9ms/step - loss: 0.0031 - val_loss: 0.0028\n",
      "Epoch 10/20\n",
      "219/219 [==============================] - 2s 9ms/step - loss: 0.0030 - val_loss: 0.0029\n",
      "Epoch 11/20\n",
      "219/219 [==============================] - 2s 8ms/step - loss: 0.0029 - val_loss: 0.0027\n",
      "Epoch 12/20\n",
      "219/219 [==============================] - 2s 9ms/step - loss: 0.0030 - val_loss: 0.0031\n",
      "Epoch 13/20\n",
      "219/219 [==============================] - 2s 9ms/step - loss: 0.0030 - val_loss: 0.0031\n",
      "Epoch 14/20\n",
      "219/219 [==============================] - 2s 9ms/step - loss: 0.0030 - val_loss: 0.0030\n",
      "Epoch 15/20\n",
      "219/219 [==============================] - 2s 9ms/step - loss: 0.0030 - val_loss: 0.0030\n",
      "Epoch 16/20\n",
      "219/219 [==============================] - 2s 9ms/step - loss: 0.0030 - val_loss: 0.0027\n",
      "Epoch 17/20\n",
      "219/219 [==============================] - 2s 9ms/step - loss: 0.0029 - val_loss: 0.0028\n",
      "Epoch 18/20\n",
      "219/219 [==============================] - 2s 9ms/step - loss: 0.0030 - val_loss: 0.0027\n",
      "Epoch 19/20\n",
      "219/219 [==============================] - 2s 9ms/step - loss: 0.0029 - val_loss: 0.0028\n",
      "Epoch 20/20\n",
      "219/219 [==============================] - 2s 9ms/step - loss: 0.0029 - val_loss: 0.0026\n"
     ]
    }
   ],
   "source": [
    "np.random.seed(42)\n",
    "tf.random.set_seed(42)\n",
    "\n",
    "model = keras.models.Sequential([\n",
    "    keras.layers.SimpleRNN(20, return_sequences=True, input_shape=[None, 1]),\n",
    "    keras.layers.SimpleRNN(20),\n",
    "    keras.layers.Dense(1)\n",
    "])\n",
    "\n",
    "model.compile(loss=\"mse\", optimizer=\"adam\")\n",
    "history = model.fit(X_train, y_train, epochs=20,\n",
    "                    validation_data=(X_valid, y_valid))"
   ]
  },
  {
   "cell_type": "code",
   "execution_count": 39,
   "metadata": {},
   "outputs": [
    {
     "name": "stdout",
     "output_type": "stream",
     "text": [
      "[[[0.47165224]]]\n",
      "[[[0.29770407]]]\n",
      "[[[0.03169884]]]\n",
      "[[[-0.14619076]]]\n",
      "[[[-0.38052443]]]\n",
      "[[[-0.4740657]]]\n",
      "[[[-0.55154735]]]\n",
      "[[[-0.402325]]]\n",
      "[[[-0.3482777]]]\n",
      "[[[-0.38091555]]]\n"
     ]
    }
   ],
   "source": [
    "# predict several time steps ahead\n",
    "\n",
    "np.random.seed(42)\n",
    "tf.random.set_seed(42)\n",
    "\n",
    "# could just use the already made model to predict the next value then add it to the inputs and so on\n",
    "series = generate_time_series(1, n_steps + 10)\n",
    "X_new, y_new = series[:, :n_steps], series[:, n_steps:]\n",
    "X = X_new\n",
    "for step_ahead in range(10):\n",
    "    y_pred_one = model.predict(X[:, step_ahead])[:, np.newaxis, :]\n",
    "    print(y_pred_one)\n",
    "    X = np.concatenate([X, y_pred_one], axis=1)\n",
    "Y_pred = X[:, n_steps:]"
   ]
  },
  {
   "cell_type": "code",
   "execution_count": 45,
   "metadata": {},
   "outputs": [
    {
     "name": "stdout",
     "output_type": "stream",
     "text": [
      "(10000, 60, 1)\n",
      "[-0.64050776 -0.529444   -0.38806868 -0.19187537 -0.02863146  0.26193336\n",
      "  0.3969534   0.6239992   0.6439498   0.6493094   0.6074959   0.43222332\n",
      "  0.29762426  0.00236487 -0.20139012 -0.4558224  -0.6097667  -0.7264664\n",
      " -0.7349208  -0.57346964 -0.4505463  -0.2754545  -0.00935674  0.22663821\n",
      "  0.39442402  0.55928534  0.6412419   0.6511253   0.5804723   0.43022403\n",
      "  0.22126319  0.03515577 -0.22477219 -0.36486754 -0.573342   -0.6372609\n",
      " -0.65981853 -0.5331245  -0.48621044 -0.2896961  -0.09598922  0.13103025\n",
      "  0.3539316   0.50686395  0.52818555  0.6129349   0.49392587  0.38097748\n",
      "  0.28169915  0.07702279 -0.09526882 -0.3135954  -0.4068229  -0.5218387\n",
      " -0.51792175 -0.44039068 -0.40399557 -0.29317066 -0.08600036  0.03291251]\n"
     ]
    }
   ],
   "source": [
    "np.random.seed(42)\n",
    "tf.random.set_seed(42)\n",
    "# could train rnn to output all 10 values at once\n",
    "series = generate_time_series(10000, n_steps + 10)\n",
    "print(series.shape)\n",
    "print(series[0, :, 0])\n",
    "X_train, Y_train = series[:7000, :n_steps], series[:7000, -10:, 0]\n",
    "X_valid, Y_valid = series[7000:9000, :n_steps], series[7000:9000, -10:, 0]\n",
    "X_test, Y_test = series[9000:, :n_steps], series[9000:, -10:, 0]"
   ]
  },
  {
   "cell_type": "code",
   "execution_count": 48,
   "metadata": {},
   "outputs": [
    {
     "name": "stdout",
     "output_type": "stream",
     "text": [
      "Epoch 1/20\n",
      "219/219 [==============================] - 3s 10ms/step - loss: 0.0656 - val_loss: 0.0320\n",
      "Epoch 2/20\n",
      "219/219 [==============================] - 2s 9ms/step - loss: 0.0272 - val_loss: 0.0222\n",
      "Epoch 3/20\n",
      "219/219 [==============================] - 2s 9ms/step - loss: 0.0194 - val_loss: 0.0161\n",
      "Epoch 4/20\n",
      "219/219 [==============================] - 2s 10ms/step - loss: 0.0159 - val_loss: 0.0147\n",
      "Epoch 5/20\n",
      "219/219 [==============================] - 2s 9ms/step - loss: 0.0138 - val_loss: 0.0125\n",
      "Epoch 6/20\n",
      "219/219 [==============================] - 2s 9ms/step - loss: 0.0126 - val_loss: 0.0116\n",
      "Epoch 7/20\n",
      "219/219 [==============================] - 2s 9ms/step - loss: 0.0119 - val_loss: 0.0116\n",
      "Epoch 8/20\n",
      "219/219 [==============================] - 2s 9ms/step - loss: 0.0117 - val_loss: 0.0103\n",
      "Epoch 9/20\n",
      "219/219 [==============================] - 2s 9ms/step - loss: 0.0109 - val_loss: 0.0101\n",
      "Epoch 10/20\n",
      "219/219 [==============================] - 2s 9ms/step - loss: 0.0109 - val_loss: 0.0105\n",
      "Epoch 11/20\n",
      "219/219 [==============================] - 2s 9ms/step - loss: 0.0106 - val_loss: 0.0094\n",
      "Epoch 12/20\n",
      "219/219 [==============================] - 2s 9ms/step - loss: 0.0102 - val_loss: 0.0094\n",
      "Epoch 13/20\n",
      "219/219 [==============================] - 2s 9ms/step - loss: 0.0102 - val_loss: 0.0096\n",
      "Epoch 14/20\n",
      "219/219 [==============================] - 2s 9ms/step - loss: 0.0098 - val_loss: 0.0128\n",
      "Epoch 15/20\n",
      "219/219 [==============================] - 2s 9ms/step - loss: 0.0101 - val_loss: 0.0101\n",
      "Epoch 16/20\n",
      "219/219 [==============================] - 2s 9ms/step - loss: 0.0094 - val_loss: 0.0089\n",
      "Epoch 17/20\n",
      "219/219 [==============================] - 2s 9ms/step - loss: 0.0095 - val_loss: 0.0121\n",
      "Epoch 18/20\n",
      "219/219 [==============================] - 2s 9ms/step - loss: 0.0090 - val_loss: 0.0086\n",
      "Epoch 19/20\n",
      "219/219 [==============================] - 2s 9ms/step - loss: 0.0092 - val_loss: 0.0089\n",
      "Epoch 20/20\n",
      "219/219 [==============================] - 2s 9ms/step - loss: 0.0091 - val_loss: 0.0091\n"
     ]
    },
    {
     "data": {
      "text/plain": [
       "<keras.callbacks.History at 0x7ff273b7a7c0>"
      ]
     },
     "execution_count": 48,
     "metadata": {},
     "output_type": "execute_result"
    }
   ],
   "source": [
    "np.random.seed(42)\n",
    "tf.random.set_seed(42)\n",
    "# just output 10 units instead of 1\n",
    "model = keras.models.Sequential([\n",
    "    keras.layers.SimpleRNN(20, return_sequences=True, input_shape=[None, 1]),\n",
    "    keras.layers.SimpleRNN(20),\n",
    "    keras.layers.Dense(10)\n",
    "])\n",
    "model.compile(loss='mse', optimizer='adam')\n",
    "model.fit(X_train, Y_train, epochs=20,\n",
    "         validation_data=(X_valid, Y_valid))"
   ]
  },
  {
   "cell_type": "code",
   "execution_count": 49,
   "metadata": {},
   "outputs": [
    {
     "data": {
      "text/plain": [
       "array([[ 0.4749645 ,  0.33652034,  0.19712791,  0.15423308,  0.13870144,\n",
       "         0.14605808,  0.16045572,  0.13469052, -0.0137713 , -0.12791085]],\n",
       "      dtype=float32)"
      ]
     },
     "execution_count": 49,
     "metadata": {},
     "output_type": "execute_result"
    }
   ],
   "source": [
    "Y_pred = model.predict(X_new)\n",
    "Y_pred"
   ]
  },
  {
   "cell_type": "code",
   "execution_count": 55,
   "metadata": {},
   "outputs": [
    {
     "name": "stdout",
     "output_type": "stream",
     "text": [
      "(10000, 50, 10)\n"
     ]
    }
   ],
   "source": [
    "# right now, is sequence to vector rnn\n",
    "# we want sequence to sequence rnn to more accurately predict next 10 time steps\n",
    "\n",
    "# only forecasts next 10 at very last step\n",
    "# how about we forecast next 10 at each and every step\n",
    "np.random.seed(42)\n",
    "tf.random.set_seed(42)\n",
    "Y = np.empty((10000, n_steps, 10))\n",
    "for step_ahead in range(1, 11):\n",
    "    Y[:, :, step_ahead - 1] = series[:, step_ahead:step_ahead + n_steps, 0]\n",
    "Y_train = Y[:7000]\n",
    "Y_valid = Y[7000:9000]\n",
    "Y_test = Y[9000:]\n",
    "print(Y.shape) # each is now 10 dimensions instead of 1"
   ]
  },
  {
   "cell_type": "code",
   "execution_count": 56,
   "metadata": {},
   "outputs": [],
   "source": [
    "# can output the 10 time steps using\n",
    "np.random.seed(42)\n",
    "tf.random.set_seed(42)\n",
    "model = keras.models.Sequential([\n",
    "    keras.layers.SimpleRNN(20, return_sequences=True, input_shape=[None, 1]),\n",
    "    keras.layers.SimpleRNN(20, return_sequences=True),\n",
    "    keras.layers.TimeDistributed(keras.layers.Dense(10))\n",
    "])\n",
    "# create metric to only compute mse on last time step\n",
    "\n",
    "def last_time_step_mse(Y_true, Y_pred):\n",
    "    return keras.metrics.mean_squared_error(Y_true[:, -1], Y_pred[:, -1])\n",
    "\n",
    "optimizer = keras.optimizers.Adam(lr=.01)\n",
    "model.compile(loss='mse', optimizer=optimizer, metrics=[last_time_step_mse])\n"
   ]
  },
  {
   "cell_type": "code",
   "execution_count": null,
   "metadata": {},
   "outputs": [
    {
     "name": "stdout",
     "output_type": "stream",
     "text": [
      "Epoch 1/20\n",
      "219/219 [==============================] - 3s 10ms/step - loss: 0.0502 - last_time_step_mse: 0.0385 - val_loss: 0.0420 - val_last_time_step_mse: 0.0282\n",
      "Epoch 2/20\n",
      "219/219 [==============================] - 2s 9ms/step - loss: 0.0398 - last_time_step_mse: 0.0284 - val_loss: 0.0375 - val_last_time_step_mse: 0.0275\n",
      "Epoch 3/20\n",
      "219/219 [==============================] - 2s 9ms/step - loss: 0.0338 - last_time_step_mse: 0.0228 - val_loss: 0.0315 - val_last_time_step_mse: 0.0207\n",
      "Epoch 4/20\n",
      "219/219 [==============================] - 2s 9ms/step - loss: 0.0299 - last_time_step_mse: 0.0184 - val_loss: 0.0286 - val_last_time_step_mse: 0.0164\n",
      "Epoch 5/20\n",
      "219/219 [==============================] - 2s 9ms/step - loss: 0.0279 - last_time_step_mse: 0.0159 - val_loss: 0.0273 - val_last_time_step_mse: 0.0150\n",
      "Epoch 6/20\n",
      "219/219 [==============================] - 2s 9ms/step - loss: 0.0257 - last_time_step_mse: 0.0134 - val_loss: 0.0260 - val_last_time_step_mse: 0.0120\n",
      "Epoch 7/20\n",
      "219/219 [==============================] - 2s 9ms/step - loss: 0.0231 - last_time_step_mse: 0.0103 - val_loss: 0.0223 - val_last_time_step_mse: 0.0101\n",
      "Epoch 8/20\n",
      "219/219 [==============================] - 2s 9ms/step - loss: 0.0221 - last_time_step_mse: 0.0096 - val_loss: 0.0207 - val_last_time_step_mse: 0.0079\n",
      "Epoch 9/20\n",
      "219/219 [==============================] - 2s 10ms/step - loss: 0.0211 - last_time_step_mse: 0.0088 - val_loss: 0.0201 - val_last_time_step_mse: 0.0072\n",
      "Epoch 10/20\n",
      "219/219 [==============================] - 2s 10ms/step - loss: 0.0206 - last_time_step_mse: 0.0085 - val_loss: 0.0235 - val_last_time_step_mse: 0.0128\n",
      "Epoch 11/20\n",
      "219/219 [==============================] - 2s 9ms/step - loss: 0.0199 - last_time_step_mse: 0.0077 - val_loss: 0.0203 - val_last_time_step_mse: 0.0074\n",
      "Epoch 12/20\n",
      "219/219 [==============================] - 2s 9ms/step - loss: 0.0195 - last_time_step_mse: 0.0075 - val_loss: 0.0184 - val_last_time_step_mse: 0.0064\n",
      "Epoch 13/20\n",
      "219/219 [==============================] - 2s 8ms/step - loss: 0.0193 - last_time_step_mse: 0.0074 - val_loss: 0.0183 - val_last_time_step_mse: 0.0066\n",
      "Epoch 14/20\n",
      "219/219 [==============================] - 2s 9ms/step - loss: 0.0191 - last_time_step_mse: 0.0073 - val_loss: 0.0209 - val_last_time_step_mse: 0.0096\n",
      "Epoch 15/20\n",
      "219/219 [==============================] - 2s 8ms/step - loss: 0.0192 - last_time_step_mse: 0.0075 - val_loss: 0.0196 - val_last_time_step_mse: 0.0072\n",
      "Epoch 16/20\n",
      "219/219 [==============================] - 2s 8ms/step - loss: 0.0186 - last_time_step_mse: 0.0069 - val_loss: 0.0189 - val_last_time_step_mse: 0.0063\n",
      "Epoch 17/20\n",
      "219/219 [==============================] - 2s 9ms/step - loss: 0.0183 - last_time_step_mse: 0.0067 - val_loss: 0.0178 - val_last_time_step_mse: 0.0061\n",
      "Epoch 18/20\n",
      "219/219 [==============================] - 2s 8ms/step - loss: 0.0184 - last_time_step_mse: 0.0069 - val_loss: 0.0189 - val_last_time_step_mse: 0.0078\n",
      "Epoch 19/20\n",
      "219/219 [==============================] - 2s 8ms/step - loss: 0.0181 - last_time_step_mse: 0.0065 - val_loss: 0.0174 - val_last_time_step_mse: 0.0055\n",
      "Epoch 20/20\n",
      "131/219 [================>.............] - ETA: 0s - loss: 0.0180 - last_time_step_mse: 0.0062"
     ]
    }
   ],
   "source": [
    "np.random.seed(42)\n",
    "tf.random.set_seed(42)\n",
    "\n",
    "model.fit(X_train, Y_train, epochs=20,\n",
    "         validation_data=(X_valid, Y_valid))"
   ]
  },
  {
   "cell_type": "code",
   "execution_count": null,
   "metadata": {},
   "outputs": [],
   "source": []
  }
 ],
 "metadata": {
  "kernelspec": {
   "display_name": "Python 3",
   "language": "python",
   "name": "python3"
  },
  "language_info": {
   "codemirror_mode": {
    "name": "ipython",
    "version": 3
   },
   "file_extension": ".py",
   "mimetype": "text/x-python",
   "name": "python",
   "nbconvert_exporter": "python",
   "pygments_lexer": "ipython3",
   "version": "3.8.5"
  }
 },
 "nbformat": 4,
 "nbformat_minor": 4
}
