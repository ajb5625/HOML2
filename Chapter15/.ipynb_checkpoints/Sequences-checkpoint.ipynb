{
 "cells": [
  {
   "cell_type": "code",
   "execution_count": null,
   "metadata": {},
   "outputs": [],
   "source": [
    "# time series doesn't have to be of a certain length\n",
    "\n",
    "# to train an rnn, unroll through time and backpropagate\n",
    "# backpropagation through time\n",
    "\n",
    "# examples\n",
    "# sequence to sequence rnn takes one sequence and outputs another ie stocks shifted 1 day in future\n",
    "# sequence to vector : words fed in, score fed out\n",
    "# vector to sequence : image to caption\n",
    "# sequence to vector encoder followed by vector to sequence decoder: language translation\n",
    "\n",
    "# keras will take care of unrolling and backpropagating through time"
   ]
  },
  {
   "cell_type": "code",
   "execution_count": 25,
   "metadata": {},
   "outputs": [],
   "source": [
    "# time series forecasting\n",
    "\n",
    "def generate_time_series(batch_size, n_steps):\n",
    "    freq1, freq2, offsets1, offsets2 = np.random.rand(4, batch_size, 1)\n",
    "    time = np.linspace(0, 1, n_steps)\n",
    "    series = 0.5 * np.sin((time - offsets1) * (freq1 * 10 + 10))  #   wave 1\n",
    "    series += 0.2 * np.sin((time - offsets2) * (freq2 * 20 + 20)) # + wave 2\n",
    "    series += 0.1 * (np.random.rand(batch_size, n_steps) - 0.5)   # + noise\n",
    "    return series[..., np.newaxis].astype(np.float32)"
   ]
  },
  {
   "cell_type": "code",
   "execution_count": 18,
   "metadata": {},
   "outputs": [
    {
     "data": {
      "text/plain": [
       "0.05665634"
      ]
     },
     "execution_count": 18,
     "metadata": {},
     "output_type": "execute_result"
    }
   ],
   "source": [
    "import numpy as np\n",
    "import tensorflow as tf\n",
    "from tensorflow import keras\n",
    "\n",
    "np.random.seed(42)\n",
    "\n",
    "n_steps = 50\n",
    "series = generate_time_series(10000, n_steps + 1)\n",
    "X_train, y_train = series[:7000, :n_steps], series[:7000, -1]\n",
    "X_valid, y_valid = series[7000:9000, :n_steps], series[7000:9000, -1]\n",
    "X_test, y_test = series[9000:, :n_steps], series[9000:, -1]\n",
    "\n",
    "# first, lets make sure we have a baseline\n",
    "# lets just predict the last value in our training time series\n",
    "\n",
    "y_pred = X_valid[:, -1]\n",
    "np.mean(keras.losses.mean_squared_error(y_valid, y_pred))"
   ]
  },
  {
   "cell_type": "code",
   "execution_count": 22,
   "metadata": {},
   "outputs": [
    {
     "name": "stdout",
     "output_type": "stream",
     "text": [
      "Epoch 1/20\n",
      "219/219 [==============================] - 0s 998us/step - loss: 1.0638 - val_loss: 0.2437\n",
      "Epoch 2/20\n",
      "219/219 [==============================] - 0s 738us/step - loss: 0.1782 - val_loss: 0.1459\n",
      "Epoch 3/20\n",
      "219/219 [==============================] - 0s 742us/step - loss: 0.1217 - val_loss: 0.1061\n",
      "Epoch 4/20\n",
      "219/219 [==============================] - 0s 736us/step - loss: 0.0917 - val_loss: 0.0803\n",
      "Epoch 5/20\n",
      "219/219 [==============================] - 0s 778us/step - loss: 0.0699 - val_loss: 0.0613\n",
      "Epoch 6/20\n",
      "219/219 [==============================] - 0s 1ms/step - loss: 0.0538 - val_loss: 0.0479\n",
      "Epoch 7/20\n",
      "219/219 [==============================] - 0s 1ms/step - loss: 0.0426 - val_loss: 0.0381\n",
      "Epoch 8/20\n",
      "219/219 [==============================] - 0s 1ms/step - loss: 0.0348 - val_loss: 0.0317\n",
      "Epoch 9/20\n",
      "219/219 [==============================] - 0s 1ms/step - loss: 0.0296 - val_loss: 0.0279\n",
      "Epoch 10/20\n",
      "219/219 [==============================] - 0s 912us/step - loss: 0.0261 - val_loss: 0.0245\n",
      "Epoch 11/20\n",
      "219/219 [==============================] - 0s 1ms/step - loss: 0.0235 - val_loss: 0.0223\n",
      "Epoch 12/20\n",
      "219/219 [==============================] - 0s 1ms/step - loss: 0.0217 - val_loss: 0.0205\n",
      "Epoch 13/20\n",
      "219/219 [==============================] - 0s 798us/step - loss: 0.0200 - val_loss: 0.0193\n",
      "Epoch 14/20\n",
      "219/219 [==============================] - 0s 749us/step - loss: 0.0186 - val_loss: 0.0180\n",
      "Epoch 15/20\n",
      "219/219 [==============================] - 0s 754us/step - loss: 0.0173 - val_loss: 0.0165\n",
      "Epoch 16/20\n",
      "219/219 [==============================] - 0s 777us/step - loss: 0.0161 - val_loss: 0.0153\n",
      "Epoch 17/20\n",
      "219/219 [==============================] - 0s 783us/step - loss: 0.0150 - val_loss: 0.0142\n",
      "Epoch 18/20\n",
      "219/219 [==============================] - 0s 781us/step - loss: 0.0140 - val_loss: 0.0135\n",
      "Epoch 19/20\n",
      "219/219 [==============================] - 0s 764us/step - loss: 0.0131 - val_loss: 0.0126\n",
      "Epoch 20/20\n",
      "219/219 [==============================] - 0s 776us/step - loss: 0.0122 - val_loss: 0.0114\n"
     ]
    }
   ],
   "source": [
    "# lets use simple model\n",
    "\n",
    "model = keras.models.Sequential([\n",
    "    keras.layers.Flatten(input_shape=[50, 1]),\n",
    "    keras.layers.Dense(1)\n",
    "])\n",
    "model.compile(loss='mse', optimizer='adam')\n",
    "history = model.fit(X_train, y_train, epochs=20,\n",
    "                    validation_data=(X_valid, y_valid))\n"
   ]
  },
  {
   "cell_type": "code",
   "execution_count": 23,
   "metadata": {},
   "outputs": [
    {
     "name": "stdout",
     "output_type": "stream",
     "text": [
      "Epoch 1/20\n",
      "219/219 [==============================] - 1s 5ms/step - loss: 0.2803 - val_loss: 0.2122\n",
      "Epoch 2/20\n",
      "219/219 [==============================] - 1s 4ms/step - loss: 0.1793 - val_loss: 0.1531\n",
      "Epoch 3/20\n",
      "219/219 [==============================] - 1s 4ms/step - loss: 0.1406 - val_loss: 0.1284\n",
      "Epoch 4/20\n",
      "219/219 [==============================] - 1s 4ms/step - loss: 0.1216 - val_loss: 0.1138\n",
      "Epoch 5/20\n",
      "219/219 [==============================] - 1s 4ms/step - loss: 0.1104 - val_loss: 0.1054\n",
      "Epoch 6/20\n",
      "219/219 [==============================] - 1s 4ms/step - loss: 0.1041 - val_loss: 0.1007\n",
      "Epoch 7/20\n",
      "219/219 [==============================] - 1s 4ms/step - loss: 0.1007 - val_loss: 0.0980\n",
      "Epoch 8/20\n",
      "219/219 [==============================] - 1s 4ms/step - loss: 0.0986 - val_loss: 0.0960\n",
      "Epoch 9/20\n",
      "219/219 [==============================] - 1s 4ms/step - loss: 0.0969 - val_loss: 0.0944\n",
      "Epoch 10/20\n",
      "219/219 [==============================] - 1s 4ms/step - loss: 0.0953 - val_loss: 0.0928\n",
      "Epoch 11/20\n",
      "219/219 [==============================] - 1s 4ms/step - loss: 0.0938 - val_loss: 0.0913\n",
      "Epoch 12/20\n",
      "219/219 [==============================] - 1s 4ms/step - loss: 0.0924 - val_loss: 0.0900\n",
      "Epoch 13/20\n",
      "219/219 [==============================] - 1s 4ms/step - loss: 0.0911 - val_loss: 0.0886\n",
      "Epoch 14/20\n",
      "219/219 [==============================] - 1s 4ms/step - loss: 0.0899 - val_loss: 0.0874\n",
      "Epoch 15/20\n",
      "219/219 [==============================] - 1s 4ms/step - loss: 0.0887 - val_loss: 0.0864\n",
      "Epoch 16/20\n",
      "219/219 [==============================] - 1s 4ms/step - loss: 0.0877 - val_loss: 0.0854\n",
      "Epoch 17/20\n",
      "219/219 [==============================] - 1s 4ms/step - loss: 0.0868 - val_loss: 0.0845\n",
      "Epoch 18/20\n",
      "219/219 [==============================] - 1s 4ms/step - loss: 0.0860 - val_loss: 0.0838\n",
      "Epoch 19/20\n",
      "219/219 [==============================] - 1s 4ms/step - loss: 0.0854 - val_loss: 0.0832\n",
      "Epoch 20/20\n",
      "219/219 [==============================] - 1s 4ms/step - loss: 0.0849 - val_loss: 0.0827\n"
     ]
    }
   ],
   "source": [
    "# lets do a simple rnn\n",
    "\n",
    "model = keras.models.Sequential([\n",
    "    keras.layers.SimpleRNN(1, input_shape=[None, 1]) # recurrent network can process any number of time steps, we have 50\n",
    "])\n",
    "# uses hyperbolic tangent by default\n",
    "model.compile(optimizer='adam', loss='mse')\n",
    "history = model.fit(X_train, y_train, epochs=20,\n",
    "                    validation_data=(X_valid, y_valid))"
   ]
  },
  {
   "cell_type": "code",
   "execution_count": 21,
   "metadata": {},
   "outputs": [
    {
     "name": "stdout",
     "output_type": "stream",
     "text": [
      "Epoch 1/20\n",
      "219/219 [==============================] - 4s 12ms/step - loss: 0.0991 - val_loss: 0.0684\n",
      "Epoch 2/20\n",
      "219/219 [==============================] - 3s 12ms/step - loss: 0.0669 - val_loss: 0.0632\n",
      "Epoch 3/20\n",
      "219/219 [==============================] - 3s 11ms/step - loss: 0.0641 - val_loss: 0.0640\n",
      "Epoch 4/20\n",
      "219/219 [==============================] - 3s 12ms/step - loss: 0.0630 - val_loss: 0.0617\n",
      "Epoch 5/20\n",
      "219/219 [==============================] - 3s 12ms/step - loss: 0.0629 - val_loss: 0.0610\n",
      "Epoch 6/20\n",
      "219/219 [==============================] - 3s 14ms/step - loss: 0.0621 - val_loss: 0.0604\n",
      "Epoch 7/20\n",
      "219/219 [==============================] - 3s 12ms/step - loss: 0.0622 - val_loss: 0.0606\n",
      "Epoch 8/20\n",
      "219/219 [==============================] - 3s 12ms/step - loss: 0.0615 - val_loss: 0.0601\n",
      "Epoch 9/20\n",
      "219/219 [==============================] - 3s 13ms/step - loss: 0.0614 - val_loss: 0.0600\n",
      "Epoch 10/20\n",
      "219/219 [==============================] - 3s 12ms/step - loss: 0.0612 - val_loss: 0.0599\n",
      "Epoch 11/20\n",
      "219/219 [==============================] - 3s 12ms/step - loss: 0.0613 - val_loss: 0.0598\n",
      "Epoch 12/20\n",
      "219/219 [==============================] - 3s 12ms/step - loss: 0.0609 - val_loss: 0.0599\n",
      "Epoch 13/20\n",
      "219/219 [==============================] - 3s 12ms/step - loss: 0.0610 - val_loss: 0.0594\n",
      "Epoch 14/20\n",
      "219/219 [==============================] - 3s 12ms/step - loss: 0.0606 - val_loss: 0.0595\n",
      "Epoch 15/20\n",
      "219/219 [==============================] - 3s 12ms/step - loss: 0.0606 - val_loss: 0.0593\n",
      "Epoch 16/20\n",
      "219/219 [==============================] - 3s 12ms/step - loss: 0.0605 - val_loss: 0.0591\n",
      "Epoch 17/20\n",
      "219/219 [==============================] - 3s 12ms/step - loss: 0.0605 - val_loss: 0.0598\n",
      "Epoch 18/20\n",
      "219/219 [==============================] - 3s 14ms/step - loss: 0.0603 - val_loss: 0.0592\n",
      "Epoch 19/20\n",
      "219/219 [==============================] - 3s 13ms/step - loss: 0.0604 - val_loss: 0.0599\n",
      "Epoch 20/20\n",
      "219/219 [==============================] - 3s 12ms/step - loss: 0.0603 - val_loss: 0.0593\n"
     ]
    }
   ],
   "source": [
    "# lets make a deep rnn\n",
    "\n",
    "model = keras.models.Sequential([\n",
    "    keras.layers.SimpleRNN(20, return_sequences=True, input_shape=[None, 1]),\n",
    "    keras.layers.SimpleRNN(20, return_sequences=True),\n",
    "    keras.layers.SimpleRNN(1)\n",
    "])\n",
    "model.compile(optimizer=optimizer, loss='mse')\n",
    "history = model.fit(X_train, y_train, epochs=20,\n",
    "                    validation_data=(X_valid, y_valid))"
   ]
  },
  {
   "cell_type": "code",
   "execution_count": 24,
   "metadata": {},
   "outputs": [
    {
     "name": "stdout",
     "output_type": "stream",
     "text": [
      "Epoch 1/20\n",
      "219/219 [==============================] - 4s 13ms/step - loss: 0.1765 - val_loss: 0.0894\n",
      "Epoch 2/20\n",
      "219/219 [==============================] - 3s 12ms/step - loss: 0.0837 - val_loss: 0.0791\n",
      "Epoch 3/20\n",
      "219/219 [==============================] - 3s 12ms/step - loss: 0.0764 - val_loss: 0.0724\n",
      "Epoch 4/20\n",
      "219/219 [==============================] - 3s 12ms/step - loss: 0.0718 - val_loss: 0.0700\n",
      "Epoch 5/20\n",
      "219/219 [==============================] - 3s 12ms/step - loss: 0.0696 - val_loss: 0.0688\n",
      "Epoch 6/20\n",
      "219/219 [==============================] - 3s 12ms/step - loss: 0.0686 - val_loss: 0.0666\n",
      "Epoch 7/20\n",
      "219/219 [==============================] - 3s 13ms/step - loss: 0.0678 - val_loss: 0.0657\n",
      "Epoch 8/20\n",
      "219/219 [==============================] - 3s 12ms/step - loss: 0.0664 - val_loss: 0.0648\n",
      "Epoch 9/20\n",
      "219/219 [==============================] - 3s 12ms/step - loss: 0.0664 - val_loss: 0.0642\n",
      "Epoch 10/20\n",
      "219/219 [==============================] - 3s 12ms/step - loss: 0.0652 - val_loss: 0.0641\n",
      "Epoch 11/20\n",
      "219/219 [==============================] - 3s 12ms/step - loss: 0.0651 - val_loss: 0.0655\n",
      "Epoch 12/20\n",
      "219/219 [==============================] - 3s 13ms/step - loss: 0.0649 - val_loss: 0.0640\n",
      "Epoch 13/20\n",
      "219/219 [==============================] - 3s 16ms/step - loss: 0.0643 - val_loss: 0.0629\n",
      "Epoch 14/20\n",
      "219/219 [==============================] - 3s 12ms/step - loss: 0.0641 - val_loss: 0.0625\n",
      "Epoch 15/20\n",
      "219/219 [==============================] - 3s 12ms/step - loss: 0.0641 - val_loss: 0.0636\n",
      "Epoch 16/20\n",
      "219/219 [==============================] - 3s 12ms/step - loss: 0.0634 - val_loss: 0.0622\n",
      "Epoch 17/20\n",
      "219/219 [==============================] - 3s 15ms/step - loss: 0.0634 - val_loss: 0.0622\n",
      "Epoch 18/20\n",
      "219/219 [==============================] - 3s 12ms/step - loss: 0.0629 - val_loss: 0.0615\n",
      "Epoch 19/20\n",
      "219/219 [==============================] - 3s 13ms/step - loss: 0.0628 - val_loss: 0.0620\n",
      "Epoch 20/20\n",
      "219/219 [==============================] - 3s 15ms/step - loss: 0.0628 - val_loss: 0.0619\n"
     ]
    }
   ],
   "source": []
  },
  {
   "cell_type": "code",
   "execution_count": null,
   "metadata": {},
   "outputs": [],
   "source": []
  }
 ],
 "metadata": {
  "kernelspec": {
   "display_name": "Python 3",
   "language": "python",
   "name": "python3"
  },
  "language_info": {
   "codemirror_mode": {
    "name": "ipython",
    "version": 3
   },
   "file_extension": ".py",
   "mimetype": "text/x-python",
   "name": "python",
   "nbconvert_exporter": "python",
   "pygments_lexer": "ipython3",
   "version": "3.8.5"
  }
 },
 "nbformat": 4,
 "nbformat_minor": 4
}
