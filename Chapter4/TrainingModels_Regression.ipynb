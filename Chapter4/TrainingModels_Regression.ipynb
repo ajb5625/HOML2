{
 "cells": [
  {
   "cell_type": "code",
   "execution_count": 148,
   "metadata": {},
   "outputs": [],
   "source": [
    "# linear regression\n",
    "# y hat = theta0 + theta1x1 + ... + thetanxn\n",
    "# vectorized form : y hat = parameter vector * feature vector\n",
    "\n",
    "# to find theta vector that minimizes the cost (MSE)\n",
    "# there is a closed form solution = The Normal Equation\n",
    "# theta hat = (XTX)^-1 XT y\n",
    "# theta hat is value that minimizes cost function\n",
    "# y is vector of target values\n",
    "# now we test this equation as follows\n",
    "\n",
    "import numpy as np\n",
    "\n",
    "X = 2 * np.random.rand(100, 1)\n",
    "y = 4 + 3 * X + np.random.randn(100, 1)\n",
    "# generated linear data"
   ]
  },
  {
   "cell_type": "code",
   "execution_count": 149,
   "metadata": {},
   "outputs": [
    {
     "data": {
      "text/plain": [
       "array([[4.19638367],\n",
       "       [2.75376528]])"
      ]
     },
     "execution_count": 149,
     "metadata": {},
     "output_type": "execute_result"
    }
   ],
   "source": [
    "# now, compute theta hat using normal equation\n",
    "\n",
    "X_b = np.c_[np.ones((100, 1)), X] # add x0 = 1 to each instance\n",
    "theta_best = np.linalg.inv(X_b.T.dot(X_b)).dot(X_b.T).dot(y)\n",
    "theta_best\n",
    "\n",
    "# the function we used to generate the data was\n",
    "# y = 4 + 3x + gaussian noise\n",
    "# so we would've hoped for theta0 to be 4 and theta1 to be 3, but close enough"
   ]
  },
  {
   "cell_type": "code",
   "execution_count": 150,
   "metadata": {},
   "outputs": [
    {
     "data": {
      "text/plain": [
       "array([[4.19638367],\n",
       "       [9.70391423]])"
      ]
     },
     "execution_count": 150,
     "metadata": {},
     "output_type": "execute_result"
    }
   ],
   "source": [
    "# now can make predictions using theta hat\n",
    "\n",
    "X_new = np.array([[0], [2]])\n",
    "X_new_b = np.c_[np.ones((2,1)), X_new] # add x0 = 1 to each instance\n",
    "y_predict = X_new_b.dot(theta_best)\n",
    "y_predict\n",
    "\n",
    "# pretty neat, the underworkings of linear regression"
   ]
  },
  {
   "cell_type": "code",
   "execution_count": 151,
   "metadata": {},
   "outputs": [
    {
     "data": {
      "image/png": "[encoded data removed]",
      "text/plain": [
       "<Figure size 432x288 with 1 Axes>"
      ]
     },
     "metadata": {
      "needs_background": "light"
     },
     "output_type": "display_data"
    }
   ],
   "source": [
    "# now lets plot it\n",
    "\n",
    "import matplotlib.pyplot as plt\n",
    "%matplotlib inline\n",
    "\n",
    "plt.plot(X_new, y_predict, \"r-\")\n",
    "plt.plot(X, y, \"b.\")\n",
    "plt.axis([0,2,0,15])\n",
    "plt.show()"
   ]
  },
  {
   "cell_type": "code",
   "execution_count": 152,
   "metadata": {},
   "outputs": [
    {
     "data": {
      "text/plain": [
       "(array([4.19638367]), array([[2.75376528]]))"
      ]
     },
     "execution_count": 152,
     "metadata": {},
     "output_type": "execute_result"
    }
   ],
   "source": [
    "# now do simply with scikit\n",
    "\n",
    "from sklearn.linear_model import LinearRegression\n",
    "\n",
    "lin_reg = LinearRegression()\n",
    "lin_reg.fit(X, y)\n",
    "lin_reg.intercept_, lin_reg.coef_\n",
    "# same as what we calculated above"
   ]
  },
  {
   "cell_type": "code",
   "execution_count": 153,
   "metadata": {},
   "outputs": [
    {
     "data": {
      "text/plain": [
       "array([[4.19638367],\n",
       "       [9.70391423]])"
      ]
     },
     "execution_count": 153,
     "metadata": {},
     "output_type": "execute_result"
    }
   ],
   "source": [
    "lin_reg.predict(X_new)\n",
    "# and same as prediction above"
   ]
  },
  {
   "cell_type": "code",
   "execution_count": 154,
   "metadata": {},
   "outputs": [
    {
     "data": {
      "text/plain": [
       "array([[4.19638367],\n",
       "       [2.75376528]])"
      ]
     },
     "execution_count": 154,
     "metadata": {},
     "output_type": "execute_result"
    }
   ],
   "source": [
    "# the linear regression class is based on scipy.linalg.lstsq\n",
    "# meaning least squares, can call directly\n",
    "\n",
    "theta_best_svd, residuals, rank, s = np.linalg.lstsq(X_b, y, rcond = 1e-6)\n",
    "theta_best_svd\n",
    "\n",
    "# same as two above\n",
    "# this function actually computes\n",
    "# theta hat = X^+y, where X^+ is the pseudoinverse of X\n",
    "# (Moore-Penrose inverse). can use np.linalg.pinv() to compute \n",
    "# pseudoinverse directly"
   ]
  },
  {
   "cell_type": "code",
   "execution_count": 155,
   "metadata": {},
   "outputs": [
    {
     "data": {
      "text/plain": [
       "array([[4.19638367],\n",
       "       [2.75376528]])"
      ]
     },
     "execution_count": 155,
     "metadata": {},
     "output_type": "execute_result"
    }
   ],
   "source": [
    "np.linalg.pinv(X_b).dot(y)\n",
    "\n",
    "# the purpose of the pseudoinverse in linear algebra is to\n",
    "# compute the best fit (least squares, eg linear regression) \n",
    "# solution to a system of linear equations that lacks a solution\n",
    "\n",
    "# another use is to find the minimum euclidean norm solution\n",
    "# to a system of linear equations with multiple solutions\n",
    "\n",
    "# it is computed using standard matrix factorization technique\n",
    "# called Singular Value Decomposition (SVD) that decomposes\n",
    "# the training set X into matrix multiplication of three \n",
    "# matrices U, sigma, and V^T (np.linalg.svd())\n",
    "# the pseudoinverse is computed as X^+ = V sigma^+ U^T\n",
    "\n",
    "# to compute sigma^+, algo takes sigma and sets to zero all values\n",
    "# smaller than a tiny threshold. after, it replaces all nonzero values with \n",
    "# their inverse and transposes the resulting matrix\n",
    "\n",
    "# this computation is more efficient than the normal equation\n",
    "# also, the normal equation may not work if XTX is not invertible,\n",
    "# but the pseudoinverse is always defined\n",
    "\n",
    "# normal equation complexity is between O(n^2.4) and O(n^3)\n",
    "# while scikit svd is O(n^2)"
   ]
  },
  {
   "cell_type": "code",
   "execution_count": 156,
   "metadata": {},
   "outputs": [],
   "source": [
    "# gradient descent is better suited method to train\n",
    "# linear regression model when there are a large\n",
    "# number of features or too many training instances to fit\n",
    "# in memory\n",
    "\n",
    "# move in direction of steepest descent by computing the gradient\n",
    "# at the current point. when gradient is 0, ou have found minimum\n",
    "\n",
    "# start parameter vector with random values and improve gradually taking one\n",
    "# step at a time, attempting to decrease the cost function until\n",
    "# algorithm converges at minimum\n",
    "\n",
    "# important hyperparameter is learning rate. if too small, it will take \n",
    "# too many steps. if too large, it could oscillate and could diverge\n",
    "\n",
    "# if cost function is not bowl shape, could converge to local min\n",
    "# rather than global optimal min\n",
    "\n",
    "# mse is convex function, meaning pick any two points across\n",
    "# the curve and line connecting them never crosses the curve\n",
    "# meaning no local minima, just global minimum\n",
    "# it also is continuous (can take a derivative) and never\n",
    "# changes slope abruptly\n",
    "\n",
    "# when using gradient descent, make sure all features have similar scale\n",
    "# ie use standard scaler\n",
    "\n",
    "# training is more difficult for this in higher dimensions; thankfully for linear regression\n",
    "# the solution is simply at the bottom of the bowl (cause convex function)\n",
    "\n"
   ]
  },
  {
   "cell_type": "code",
   "execution_count": 157,
   "metadata": {},
   "outputs": [
    {
     "data": {
      "text/plain": [
       "array([[4.19638367],\n",
       "       [2.75376528]])"
      ]
     },
     "execution_count": 157,
     "metadata": {},
     "output_type": "execute_result"
    }
   ],
   "source": [
    "# batch gradient descent\n",
    "# takes partial derivative of cost function with respect to each\n",
    "\n",
    "# partial derivative of cost function = \n",
    "# 2/m * sum(parameter .dot features - labels)*feature\n",
    "\n",
    "# parameter thetaj\n",
    "# to determine, take partials and move in opposite direction of slope\n",
    "# times the learning rate to get step size\n",
    "# theta step = theta - rate * gradient(mse)\n",
    "\n",
    "eta = .1 # learning rate\n",
    "n_iterations = 1000\n",
    "m = 100\n",
    "\n",
    "theta = np.random.randn(2, 1) # random initialization\n",
    "\n",
    "for iteration in range(n_iterations):\n",
    "    gradients = 2/m * X_b.T.dot(X_b.dot(theta) - y)\n",
    "    theta = theta - eta * gradients\n",
    "\n",
    "theta\n",
    "# and is exactly what every other method found\n",
    "# to find a good learning rate, can use grid search from chapter 2\n",
    "# to find iterations, set to large number and break when gradient\n",
    "# vector becomes tiny, smaller than tolerance\n"
   ]
  },
  {
   "cell_type": "code",
   "execution_count": 158,
   "metadata": {},
   "outputs": [
    {
     "data": {
      "text/plain": [
       "array([[4.09112173],\n",
       "       [2.80638026]])"
      ]
     },
     "execution_count": 158,
     "metadata": {},
     "output_type": "execute_result"
    }
   ],
   "source": [
    "# stochastic gradient descent is good when the training\n",
    "# data is huge; but because of random nature, can\n",
    "# oscillate when close to the minimum\n",
    "# because of this, it probably won't find global min\n",
    "\n",
    "# it also looks at one piece of data at a time and computes gradient\n",
    "# rather than batch of whole training data as in bgd\n",
    "\n",
    "# this means the training step is much faster but more random(stochastic)\n",
    "\n",
    "# when cost function is irregular, sgd can actually help algorithm jump out\n",
    "# of local minima, so sgd has better chance of finding global minimum than bgd\n",
    "\n",
    "# randomness is good because can help us escape local minima, but bad because\n",
    "# algorithm will never settle at global minimum\n",
    "# can fix this by gradually reducing the learning rate with a learning schedule\n",
    "\n",
    "# implementation of stochastic gradient descent with simple learning schedule\n",
    "\n",
    "n_epochs = 50\n",
    "t0, t1 = 5, 50 # learning schedule hyperparameters\n",
    "\n",
    "def learning_schedule(t):\n",
    "    return t0 / (t + t1)\n",
    "\n",
    "theta = np.random.randn(2, 1) # random 2x1\n",
    "\n",
    "for epoch in range(n_epochs):\n",
    "    for i in range(m):\n",
    "        random_index = np.random.randint(m)\n",
    "        xi = X_b[random_index:random_index + 1]\n",
    "        yi = y[random_index:random_index + 1]\n",
    "        gradients = 2 * xi.T.dot(xi.dot(theta) - yi)\n",
    "        eta = learning_schedule(epoch * m + i)\n",
    "        theta = theta - eta * gradients\n",
    "        \n",
    "theta\n"
   ]
  },
  {
   "cell_type": "code",
   "execution_count": 159,
   "metadata": {},
   "outputs": [
    {
     "data": {
      "text/plain": [
       "(array([4.13081318]), array([2.79338524]))"
      ]
     },
     "execution_count": 159,
     "metadata": {},
     "output_type": "execute_result"
    }
   ],
   "source": [
    "# can also do sgdregressor from sklearn\n",
    "# params for below example as follows\n",
    "# max 1000 epochs, or until loss drops by less than .001 (tolerance)\n",
    "# learning rate starts at .1 and follows a default learning schedule\n",
    "# does no regularization (penalty = none)\n",
    "\n",
    "from sklearn.linear_model import SGDRegressor\n",
    "\n",
    "sgd_reg = SGDRegressor(max_iter = 1000, tol = 1e-3, penalty = None, eta0 = .1)\n",
    "sgd_reg.fit(X, y.ravel())\n",
    "\n",
    "# will again find solution close to one returned by normal equation\n",
    "\n",
    "sgd_reg.intercept_, sgd_reg.coef_"
   ]
  },
  {
   "cell_type": "code",
   "execution_count": 160,
   "metadata": {},
   "outputs": [],
   "source": [
    "# mini batch gradient descent looks at subsets of training data\n",
    "# can take advantage of hardware optimization of matrix operations on gpus\n",
    "\n",
    "# progress in parameter space is less erratic than sgd, will walk closer around\n",
    "# the global min than sgd but may be harder to escape the local minima (when problems\n",
    "# suffer this issue, unlike linear regression :)"
   ]
  },
  {
   "cell_type": "code",
   "execution_count": 161,
   "metadata": {},
   "outputs": [],
   "source": [
    "# now, onto Polynomial Regression\n",
    "\n",
    "# can use linear model to fit nonlinear data\n",
    "# add powers of each feature as new feature\n",
    "# then train linear model on this extended set of features\n",
    "\n",
    "# generate nonlinear data based on quadratic equation\n",
    "\n",
    "m = 100\n",
    "X = 6 * np.random.rand(m, 1) - 3\n",
    "y = .5 * X**2 + X + 2 + np.random.randn(m, 1)\n",
    "# made some cool vectors"
   ]
  },
  {
   "cell_type": "code",
   "execution_count": 162,
   "metadata": {},
   "outputs": [
    {
     "data": {
      "text/plain": [
       "array([-2.35131908])"
      ]
     },
     "execution_count": 162,
     "metadata": {},
     "output_type": "execute_result"
    }
   ],
   "source": [
    "# so, a line will never fit this data.\n",
    "# we can use scikits polynomial features class to transform \n",
    "# our training data, adding the square of each feature in the training\n",
    "# set as a new feature\n",
    "\n",
    "from sklearn.preprocessing import PolynomialFeatures\n",
    "\n",
    "poly_features = PolynomialFeatures(degree = 2, include_bias = False)\n",
    "X_poly = poly_features.fit_transform(X)\n",
    "X[0]"
   ]
  },
  {
   "cell_type": "code",
   "execution_count": 163,
   "metadata": {},
   "outputs": [
    {
     "data": {
      "text/plain": [
       "array([-2.35131908,  5.52870143])"
      ]
     },
     "execution_count": 163,
     "metadata": {},
     "output_type": "execute_result"
    }
   ],
   "source": [
    "X_poly[0]\n",
    "\n",
    "# X_poly contains the original feature of X plus the square of this feature"
   ]
  },
  {
   "cell_type": "code",
   "execution_count": 164,
   "metadata": {},
   "outputs": [
    {
     "data": {
      "text/plain": [
       "(array([2.26037694]), array([[1.02040147, 0.43869951]]))"
      ]
     },
     "execution_count": 164,
     "metadata": {},
     "output_type": "execute_result"
    }
   ],
   "source": [
    "# now, we can fit a linear regression model to this extended training data\n",
    "\n",
    "lin_reg = LinearRegression()\n",
    "lin_reg.fit(X_poly, y)\n",
    "lin_reg.intercept_, lin_reg.coef_\n",
    "# compare this to intercept = 2, x^2 = .5, x = 1\n",
    "\n",
    "# when there are multiple features, polynomial regression\n",
    "# can find relationships between features, which linear regression\n",
    "# cannot. this is because PolynomialFeatures adds all combinations\n",
    "# of features up to the given degree\n",
    "\n",
    "# ex if degree = 3 and there are features a and b, polynomial adds\n",
    "# a^2, a^3, b^2, b^3 and ab, a^2b, ab^2\n",
    "# this can cause a combinatorial explosion, be careful# so, a line will never fit this data.\n",
    "# we can use scikits polynomial features class to transform \n",
    "# our training data, adding the square of each feature in the training\n",
    "# set as a new feature"
   ]
  },
  {
   "cell_type": "code",
   "execution_count": 165,
   "metadata": {},
   "outputs": [
    {
     "data": {
      "image/png": "[encoded data removed]",
      "text/plain": [
       "<Figure size 432x288 with 1 Axes>"
      ]
     },
     "metadata": {
      "needs_background": "light"
     },
     "output_type": "display_data"
    }
   ],
   "source": [
    "# if you perform high degree poly regression,\n",
    "# will likely fit the training model better than with\n",
    "# plain linear regression\n",
    "\n",
    "# the problem we see here is the polynomial regression\n",
    "# will overfit training data, linear regression will\n",
    "# underfit training data\n",
    "\n",
    "# we looked at k fold cross validation before.\n",
    "# a good way to analyze for regression models\n",
    "# is looking at the learning curves. This plots \n",
    "# the model's performance on training and validation sets\n",
    "# as a function of the training set size\n",
    "\n",
    "# so we will train model several times on different sized subsets\n",
    "# of data of training set.\n",
    "\n",
    "from sklearn.metrics import mean_squared_error\n",
    "from sklearn.model_selection import train_test_split\n",
    "\n",
    "def plot_learning_curves(model, X, y):\n",
    "    X_train, X_val, y_train, y_val = train_test_split(X, y, test_size = .2)\n",
    "    train_errors, val_errors = [], []\n",
    "    for m in range(1, len(X_train)):\n",
    "        model.fit(X_train[:m], y_train[:m])\n",
    "        y_train_predict = model.predict(X_train[:m])\n",
    "        y_val_predict = model.predict(X_val)\n",
    "        train_errors.append(mean_squared_error(y_train[:m], y_train_predict))\n",
    "        val_errors.append(mean_squared_error(y_val, y_val_predict))\n",
    "    plt.plot(np.sqrt(train_errors), 'r-+', linewidth = 2, label = 'train')\n",
    "    plt.plot(np.sqrt(val_errors), 'b-', linewidth = 3, label = 'val')\n",
    "    \n",
    "lin_reg = LinearRegression()\n",
    "plot_learning_curves(lin_reg, X, y)\n",
    "\n",
    "# so this model is underfitting, which makes sense cause\n",
    "# data was not linear to begin with. we see high validation error\n",
    "# when training few examples because it cannot generalize well off of only \n",
    "# a few training examples. When learning more examples, val error slowly goes down \n",
    "# until it hits a plateau \n",
    "\n",
    "# with the train error, it is easy to correctly classify the first few training examples\n",
    "# but after a while, we see that a line does not fit nonlinear data well. it also plateaus\n",
    "# and meets around the same place as the validation error"
   ]
  },
  {
   "cell_type": "code",
   "execution_count": 166,
   "metadata": {},
   "outputs": [
    {
     "data": {
      "image/png": "[encoded data removed]",
      "text/plain": [
       "<Figure size 432x288 with 1 Axes>"
      ]
     },
     "metadata": {
      "needs_background": "light"
     },
     "output_type": "display_data"
    }
   ],
   "source": [
    "# now learning curves of 10th degree polynomial model (expecting overfitting)\n",
    "\n",
    "from sklearn.pipeline import Pipeline\n",
    "\n",
    "polynomial_regression = Pipeline([\n",
    "    ('poly_features', PolynomialFeatures(degree = 10, include_bias = False)),\n",
    "    (\"lin_reg\", LinearRegression())\n",
    "])\n",
    "\n",
    "plot_learning_curves(polynomial_regression, X, y)\n",
    "\n",
    "# as we can see, error on training data is much lower here\n",
    "# than in regular linear regression\n",
    "# there is also a gap between the curves, meaning model\n",
    "# performs much better on training data than validation data\n",
    "# hallmark of overfitting model\n",
    "# but, when training set gets larger curves get much closer\n",
    "\n",
    "# and as we can see, one way to fix an overfitting model is\n",
    "# to feed it more training data until validation error meets\n",
    "# training error"
   ]
  },
  {
   "cell_type": "code",
   "execution_count": 167,
   "metadata": {},
   "outputs": [],
   "source": [
    "# bias/variance tradeoff\n",
    "# error of model can be described as sum of 3 different types of errors\n",
    "\n",
    "# bias : generalization error is due to wrong assumptions. assuming data is linear\n",
    "# when it is actually quadratic. high bias model is most likely to underfit training data\n",
    "\n",
    "# variance : due to model's excessive sensitivity to small variations in training data\n",
    "# a model with many degrees of freedom (high degree polynomial model) is likely to have\n",
    "# high variance and thus overfit training data\n",
    "\n",
    "# irreducible error : noisiness of data. reduce by cleaning data, fix data sources\n",
    "# detect or remove outliers\n",
    "\n",
    "# increasing a model's complexity typically increases its variance and reduces its bias\n",
    "# reducing a models complexity increases its bias and reduces its variance\n",
    "\n",
    "# this is why it is a tradeoff :)\n"
   ]
  },
  {
   "cell_type": "code",
   "execution_count": 168,
   "metadata": {},
   "outputs": [],
   "source": [
    "# Regularized Linear Models\n",
    "\n",
    "# the fewer degrees of freedom a model has, thre harder it will\n",
    "# be to overfit the data\n",
    "\n",
    "# regularize polynomial model by reducing number of polynomial degrees\n",
    "\n",
    "# for linear model, regularization is achieved by constraining weights of the model\n",
    "\n",
    "# Ridge Regression, Lasso Regression, and Elastic Net are 3 different ways to constrain the weights"
   ]
  },
  {
   "cell_type": "code",
   "execution_count": 169,
   "metadata": {},
   "outputs": [
    {
     "data": {
      "text/plain": [
       "array([[5.08065386]])"
      ]
     },
     "execution_count": 169,
     "metadata": {},
     "output_type": "execute_result"
    }
   ],
   "source": [
    "# Ridge Regression\n",
    "\n",
    "# for the mse, it adds a regularization term theta^2\n",
    "# this insures that the weights are as small as possible\n",
    "# if w is feature weights, theta is 1/2(magn(w)_2)^2, where magn(w)_2\n",
    "# is the l2 norm of the weight vector\n",
    "# for gradient descent, just add alpha * weight vector to mse gradient vector\n",
    "\n",
    "# l1 norm is sum of absolute values of vector\n",
    "# l2 norm is square root of sum of squares (magnitude)\n",
    "\n",
    "# closed form solution for Ridge Regression, A is identity matrix with 0 in top\n",
    "# left cell for bias term\n",
    "\n",
    "# theta hat = (X^TX + alpha*A)^-1 * X^T * y\n",
    "\n",
    "# now using scikit, will use closed form solution that\n",
    "# uses Cholesky matrix factorization technique\n",
    "\n",
    "from sklearn.linear_model import Ridge\n",
    "\n",
    "ridge_reg = Ridge(alpha = 1, solver = 'cholesky')\n",
    "ridge_reg.fit(X, y)\n",
    "ridge_reg.predict([[1.5]])\n"
   ]
  },
  {
   "cell_type": "code",
   "execution_count": 170,
   "metadata": {},
   "outputs": [
    {
     "data": {
      "text/plain": [
       "array([5.04369398])"
      ]
     },
     "execution_count": 170,
     "metadata": {},
     "output_type": "execute_result"
    }
   ],
   "source": [
    "# also with sgd\n",
    "\n",
    "sgd_reg = SGDRegressor(penalty = 'l2')\n",
    "sgd_reg.fit(X, y.ravel())\n",
    "sgd_reg.predict([[1.5]])\n",
    "# specifying penalty in sgd tells scikit you want to add\n",
    "# l2 norm, 1/2 magnitude of weight vector; same as ridge regression above"
   ]
  },
  {
   "cell_type": "code",
   "execution_count": 171,
   "metadata": {},
   "outputs": [
    {
     "data": {
      "text/plain": [
       "array([5.03539807])"
      ]
     },
     "execution_count": 171,
     "metadata": {},
     "output_type": "execute_result"
    }
   ],
   "source": [
    "# Lasso Regression\n",
    "\n",
    "# least absolute shrinkage and selection operator regression\n",
    "\n",
    "# adds regularization term equal to l1 norm, so is different\n",
    "# from ridge regression\n",
    "# it automatically selects features and outputs a sparse matrix\n",
    "# because it tends to eliminate weights of the least important features\n",
    "\n",
    "# note lasso cost is not differentiable at any theta = 0, but gd \n",
    "# still works fine if you use a subgradient vector instead when any\n",
    "# theta = 0\n",
    "\n",
    "# subgradient (g) = gradient(MSE) + alpha * (sign vector)\n",
    "\n",
    "# scikit, or could do sgd with penalty = l1\n",
    "\n",
    "from sklearn.linear_model import Lasso\n",
    "\n",
    "lasso_reg = Lasso(alpha = .1)\n",
    "lasso_reg.fit(X, y)\n",
    "lasso_reg.predict([[1.5]])"
   ]
  },
  {
   "cell_type": "code",
   "execution_count": 172,
   "metadata": {},
   "outputs": [
    {
     "data": {
      "text/plain": [
       "array([5.03633024])"
      ]
     },
     "execution_count": 172,
     "metadata": {},
     "output_type": "execute_result"
    }
   ],
   "source": [
    "# Elastic Net is middle ground between two,\n",
    "# regularization term is mix of both l1 and l2,\n",
    "# and you control ratio r\n",
    "# if r = 0, it is ridge regression. if r = 1, it is lasso\n",
    "\n",
    "# when to use each of these? You should always have some\n",
    "# regularization, so it is preferable to avoid plain \n",
    "# linear regression\n",
    "# Ridge is a good default, but if you see that only a few\n",
    "# features are important, you should prefer Lasso or Elastic\n",
    "# because they reduce the useless features' weights down to zero\n",
    "\n",
    "# in general, elastic is preferred over Lasso because Lasso may behave erratically\n",
    "# when number of features is greater than number of training instances or when\n",
    "# several features are strongly correlated\n",
    "\n",
    "# scikit elastic net\n",
    "\n",
    "from sklearn.linear_model import ElasticNet\n",
    "\n",
    "elastic_net = ElasticNet(alpha = .1, l1_ratio = .5)\n",
    "elastic_net.fit(X, y)\n",
    "elastic_net.predict([[1.5]])"
   ]
  },
  {
   "cell_type": "code",
   "execution_count": 173,
   "metadata": {},
   "outputs": [],
   "source": [
    "# Early Stopping\n",
    "\n",
    "# you could also stop iterative learning algorithms when the\n",
    "# validation error reaches a minimum. The val error will be\n",
    "# at a minimum, then it will start to go up again, meaning\n",
    "# the model is beginning to overfit the training data\n",
    "\n",
    "# or can stop when validation error has been above min for some\n",
    "# time and roll back to previous model where val error was at min\n",
    "\n",
    "# implementation\n",
    "\n",
    "from sklearn.base import clone\n",
    "from sklearn.preprocessing import StandardScaler\n",
    "\n",
    "# prepare data\n",
    "X_train, X_val, y_train, y_val = train_test_split(X, y, test_size = .2)\n",
    "\n",
    "\n",
    "poly_scaler = Pipeline([\n",
    "    ('poly_features', PolynomialFeatures(degree = 90, include_bias = False)),\n",
    "    ('std_scaler', StandardScaler())\n",
    "])\n",
    "\n",
    "X_train_poly_scaled = poly_scaler.fit_transform(X_train)\n",
    "X_val_poly_scaled = poly_scaler.transform(X_val)\n",
    "\n",
    "sgd_reg = SGDRegressor(max_iter = 1, tol = -np.infty, warm_start = True, \n",
    "                       penalty = None, learning_rate = 'constant', eta0 = .0005)\n",
    "\n",
    "minimum_val_error = float('inf')\n",
    "best_epoch = None\n",
    "best_model = None\n",
    "for epoch in range(1000):\n",
    "    sgd_reg.fit(X_train_poly_scaled, y_train.ravel()) #continues where it left off\n",
    "    y_val_predict = sgd_reg.predict(X_val_poly_scaled)\n",
    "    val_error = mean_squared_error(y_val, y_val_predict)\n",
    "    if val_error < minimum_val_error:\n",
    "        minimum_val_error = val_error\n",
    "        best_epoch = epoch\n",
    "        best_model = clone(sgd_reg)\n",
    "        \n",
    "# when warm start = True, it continues training from where\n",
    "# it left off rather than training from scratch"
   ]
  },
  {
   "cell_type": "code",
   "execution_count": 174,
   "metadata": {},
   "outputs": [],
   "source": [
    "# Logistic Regression\n",
    "\n",
    "# commonly used to estimate probability that instance belongs\n",
    "# to a particular class. binary classifier would be like\n",
    "# greater than 50 predict 1, less than 50 predict 0\n",
    "\n",
    "# takes input features and computes weighted sum of them, \n",
    "# plus bias term (just like linear regression), and outputs the\n",
    "# logistic of this result\n",
    "\n",
    "# logistic is a sigmoid function that outputs a number between\n",
    "# 0 and 1\n",
    "\n",
    "# sigma(t) = 1 / (1 + exp(-t))\n",
    "\n",
    "# once model has estimated probability that x belongs to positive class,\n",
    "# can make its prediction y hat easily\n",
    "\n",
    "# training objective is to assign high probs to positive instances\n",
    "# and low probs to negative instances\n",
    "\n",
    "# cost function\n",
    "# c(theta) = -log(p hat) , if y = 1\n",
    "# -log(1 - p hat), if y = 0\n",
    "\n",
    "# this is the cost for one example, but can be rewritten over whole\n",
    "# training set as log loss\n",
    "\n",
    "# bad news is there is no known closed form solution for this\n",
    "# but the function is convex, so gradient descent (or other optimization algorithm)\n",
    "# is guaranteed to find global minimum\n",
    "\n",
    "# partial derivative of cost function with regard to jth model param theta_j is\n",
    "# 1/m * sum(sigmoid(theta^T*x^i) - y^i)x^i_j\n",
    "# computes prediction error and multiplies by jth feature value and averages all of them together\n",
    "# once you compute this vector, use it in batch gradient descent\n",
    "# this is for batch. for stochastic, just do one at a time. for mini-batch, use a minibatch at a time\n",
    "\n"
   ]
  },
  {
   "cell_type": "code",
   "execution_count": 175,
   "metadata": {},
   "outputs": [
    {
     "data": {
      "text/plain": [
       "['data',\n",
       " 'target',\n",
       " 'frame',\n",
       " 'target_names',\n",
       " 'DESCR',\n",
       " 'feature_names',\n",
       " 'filename']"
      ]
     },
     "execution_count": 175,
     "metadata": {},
     "output_type": "execute_result"
    }
   ],
   "source": [
    "# we will demonstrate logistic regression with iris dataset\n",
    "\n",
    "from sklearn import datasets\n",
    "\n",
    "iris = datasets.load_iris()\n",
    "list(iris.keys())"
   ]
  },
  {
   "cell_type": "code",
   "execution_count": 176,
   "metadata": {},
   "outputs": [],
   "source": [
    "# first, we will try to determine simply from petal width\n",
    "# if the flower is iris virginica\n",
    "\n",
    "X = iris['data'][:, 3:] # petal width\n",
    "y = (iris['target'] == 2).astype(np.int) # 1 if iris virginica, else 0"
   ]
  },
  {
   "cell_type": "code",
   "execution_count": 177,
   "metadata": {},
   "outputs": [
    {
     "data": {
      "text/plain": [
       "LogisticRegression()"
      ]
     },
     "execution_count": 177,
     "metadata": {},
     "output_type": "execute_result"
    }
   ],
   "source": [
    "# now train model\n",
    "\n",
    "from sklearn.linear_model import LogisticRegression\n",
    "\n",
    "log_reg = LogisticRegression()\n",
    "log_reg.fit(X, y)"
   ]
  },
  {
   "cell_type": "code",
   "execution_count": 178,
   "metadata": {},
   "outputs": [
    {
     "data": {
      "text/plain": [
       "[<matplotlib.lines.Line2D at 0x7f5828e5ee20>]"
      ]
     },
     "execution_count": 178,
     "metadata": {},
     "output_type": "execute_result"
    },
    {
     "data": {
      "image/png": "[encoded data removed]",
      "text/plain": [
       "<Figure size 432x288 with 1 Axes>"
      ]
     },
     "metadata": {
      "needs_background": "light"
     },
     "output_type": "display_data"
    }
   ],
   "source": [
    "X_new = np.linspace(0, 3, 1000).reshape(-1, 1)\n",
    "y_proba = log_reg.predict_proba(X_new)\n",
    "plt.plot(X_new, y_proba[:, 1], 'g-', label = \"Iris virginica\")\n",
    "plt.plot(X_new, y_proba[:, 0], 'b--', label = \"Not Iris virginica\")\n",
    "# clear decision boundary at 1.6. \n",
    "# x axis is petal length, y axis is probability\n",
    "# blue is not virginica, green is virginica"
   ]
  },
  {
   "cell_type": "code",
   "execution_count": 179,
   "metadata": {},
   "outputs": [
    {
     "data": {
      "text/plain": [
       "array([1, 0])"
      ]
     },
     "execution_count": 179,
     "metadata": {},
     "output_type": "execute_result"
    }
   ],
   "source": [
    "log_reg.predict([[1.7], [1.5]])"
   ]
  },
  {
   "cell_type": "code",
   "execution_count": 180,
   "metadata": {},
   "outputs": [
    {
     "data": {
      "text/plain": [
       "LogisticRegression(C=10, multi_class='multinomial')"
      ]
     },
     "execution_count": 180,
     "metadata": {},
     "output_type": "execute_result"
    }
   ],
   "source": [
    "# just like other linear models, logr can\n",
    "# be regularized with l1 or l2 norm. scikit\n",
    "# uses l2 for logr by default\n",
    "\n",
    "# Softmax Regression\n",
    "# this is logr with support for multiple classes\n",
    "# without having to train and combine multiple binary\n",
    "# classifiers\n",
    "# also called multinomial logistic regression\n",
    "\n",
    "# given instance x, softmax regression model first\n",
    "# computes a score s_k(x) for each class k, then estimates\n",
    "# the probability of each class by applying the softmax function (or normalized exponential)\n",
    "# score function is just like linear regression prediction\n",
    "\n",
    "# s_k(x) = x^T * theta^k\n",
    "# each class has own dedicated param vector theta^k\n",
    "# all these are typically stored in a parameter matrix\n",
    "\n",
    "# after computing the score for every class for the instance x\n",
    "# , estimate probability p hat _ k with softmax function\n",
    "\n",
    "# function computes exponential of every score, then normalizes them (divide by sum of all exponentials)\n",
    "# scores are generally called logits or log-odds\n",
    "\n",
    "# p hat_k = sigmoid(score(x)_k) = exp(score(x)) / sum j = 1 to k (score_j(x))\n",
    "# k is number of classes, s(x) is vector containing scores of each class for instance x\n",
    "# sigmoid function is estimated probability that instance x belongs to class k, given\n",
    "# the scores of each class for that instance\n",
    "\n",
    "# so classifier just predicts class with highest estimated probability\n",
    "# y hat = argmax_k(sigmoid(score(x))) = argmax_k(score_k(x)) = argmax_k((param vector k)^T*x)\n",
    "# argmax returns value of variable that maximizes a function, so in this case is k that\n",
    "# maximizes estimated probability of sigmoid function\n",
    "\n",
    "# softmax regression is multiclass, not multioutput. use is for mutually\n",
    "# exclusive classes like different types of plants, not to\n",
    "# recognize multiple people in a picture\n",
    "\n",
    "# training objective is to have a model that estimate a high probability\n",
    "# for the target class, and low probability for the other classes\n",
    "# minimizing the cost function (cross entropy) should lead to this objective\n",
    "# because it penalizes the model when it estimates low probability for a target class\n",
    "# cross entropy is frequently used to measure how well a set of estimated class probabilities\n",
    "# matches the target classes\n",
    "\n",
    "# cross entropy = -1/m sum 1 to m (sum 1 to k (y_k^(i) * log(p hat _k ^ (i))))\n",
    "# y_k^(i) is target probability that ith instance belongs to class k. in general,\n",
    "# is either 1 or 0, depending upon whether instance belongs to class or not\n",
    "\n",
    "# when there are 2 classes, this function is simply equal to logistic \n",
    "# regression's cost function\n",
    "\n",
    "# the gradient for cross entropy is given as follows\n",
    "# = 1/m sum 1 to m (p hat_k^(i) - y_k^(i))x^(i)\n",
    "\n",
    "# now we can compute gradient vector for every class then use gradient descent (or\n",
    "# other optimization algorithm) to find parameter matrix that minimizes the cost function\n",
    "\n",
    "# now, use softmax regression to classify iris flowers into all three classes\n",
    "\n",
    "# scikit learn uses one versus rest by default when you train it on more than\n",
    "# two classes, but can set multi_class hyperparameter to multinomial to switch\n",
    "# to softmax regression\n",
    "# must also specify a solver that supports softmax regression, such as lbfgs\n",
    "# it applies l2 regularizer by default, which you can control with hyperparameter C\n",
    "\n",
    "X = iris['data'][:, (2, 3)] # use petal length, petal width\n",
    "y = iris['target']\n",
    "\n",
    "softmax_reg = LogisticRegression(multi_class = 'multinomial', solver = 'lbfgs', C = 10)\n",
    "softmax_reg.fit(X, y)"
   ]
  },
  {
   "cell_type": "code",
   "execution_count": 181,
   "metadata": {},
   "outputs": [
    {
     "data": {
      "text/plain": [
       "array([2])"
      ]
     },
     "execution_count": 181,
     "metadata": {},
     "output_type": "execute_result"
    }
   ],
   "source": [
    "softmax_reg.predict([[5, 2]]) # 5 cm long, 2 cm wide"
   ]
  },
  {
   "cell_type": "code",
   "execution_count": 182,
   "metadata": {},
   "outputs": [
    {
     "data": {
      "text/plain": [
       "array([[6.38014896e-07, 5.74929995e-02, 9.42506362e-01]])"
      ]
     },
     "execution_count": 182,
     "metadata": {},
     "output_type": "execute_result"
    }
   ],
   "source": [
    "softmax_reg.predict_proba([[5, 2]])\n",
    "# third option has highest probability, and that's what it gave us above"
   ]
  }
 ],
 "metadata": {
  "kernelspec": {
   "display_name": "Python 3",
   "language": "python",
   "name": "python3"
  },
  "language_info": {
   "codemirror_mode": {
    "name": "ipython",
    "version": 3
   },
   "file_extension": ".py",
   "mimetype": "text/x-python",
   "name": "python",
   "nbconvert_exporter": "python",
   "pygments_lexer": "ipython3",
   "version": "3.8.5"
  }
 },
 "nbformat": 4,
 "nbformat_minor": 4
}
