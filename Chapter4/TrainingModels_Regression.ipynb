{
 "cells": [
  {
   "cell_type": "code",
   "execution_count": 8,
   "metadata": {},
   "outputs": [],
   "source": [
    "# linear regression\n",
    "# y hat = theta0 + theta1x1 + ... + thetanxn\n",
    "# vectorized form : y hat = parameter vector * feature vector\n",
    "\n",
    "# to find theta vector that minimizes the cost (MSE)\n",
    "# there is a closed form solution = The Normal Equation\n",
    "# theta hat = (XTX)^-1 XT y\n",
    "# theta hat is value that minimizes cost function\n",
    "# y is vector of target values\n",
    "# now we test this equation as follows\n",
    "\n",
    "import numpy as np\n",
    "\n",
    "X = 2 * np.random.rand(100, 1)\n",
    "y = 4 + 3 * X + np.random.randn(100, 1)\n",
    "# generated linear data"
   ]
  },
  {
   "cell_type": "code",
   "execution_count": 9,
   "metadata": {},
   "outputs": [
    {
     "data": {
      "text/plain": [
       "array([[3.76656781],\n",
       "       [3.13971004]])"
      ]
     },
     "execution_count": 9,
     "metadata": {},
     "output_type": "execute_result"
    }
   ],
   "source": [
    "# now, compute theta hat using normal equation\n",
    "\n",
    "X_b = np.c_[np.ones((100, 1)), X] # add x0 = 1 to each instance\n",
    "theta_best = np.linalg.inv(X_b.T.dot(X_b)).dot(X_b.T).dot(y)\n",
    "theta_best\n",
    "\n",
    "# the function we used to generate the data was\n",
    "# y = 4 + 3x + gaussian noise\n",
    "# so we would've hoped for theta0 to be 4 and theta1 to be 3, but close enough"
   ]
  },
  {
   "cell_type": "code",
   "execution_count": 10,
   "metadata": {},
   "outputs": [
    {
     "data": {
      "text/plain": [
       "array([[ 3.76656781],\n",
       "       [10.04598789]])"
      ]
     },
     "execution_count": 10,
     "metadata": {},
     "output_type": "execute_result"
    }
   ],
   "source": [
    "# now can make predictions using theta hat\n",
    "\n",
    "X_new = np.array([[0], [2]])\n",
    "X_new_b = np.c_[np.ones((2,1)), X_new] # add x0 = 1 to each instance\n",
    "y_predict = X_new_b.dot(theta_best)\n",
    "y_predict\n",
    "\n",
    "# pretty neat, the underworkings of linear regression"
   ]
  },
  {
   "cell_type": "code",
   "execution_count": 13,
   "metadata": {},
   "outputs": [
    {
     "data": {
      "image/png": "[encoded data removed]",
      "text/plain": [
       "<Figure size 432x288 with 1 Axes>"
      ]
     },
     "metadata": {
      "needs_background": "light"
     },
     "output_type": "display_data"
    }
   ],
   "source": [
    "# now lets plot it\n",
    "\n",
    "import matplotlib.pyplot as plt\n",
    "%matplotlib inline\n",
    "\n",
    "plt.plot(X_new, y_predict, \"r-\")\n",
    "plt.plot(X, y, \"b.\")\n",
    "plt.axis([0,2,0,15])\n",
    "plt.show()"
   ]
  },
  {
   "cell_type": "code",
   "execution_count": 14,
   "metadata": {},
   "outputs": [
    {
     "data": {
      "text/plain": [
       "(array([3.76656781]), array([[3.13971004]]))"
      ]
     },
     "execution_count": 14,
     "metadata": {},
     "output_type": "execute_result"
    }
   ],
   "source": [
    "# now do simply with scikit\n",
    "\n",
    "from sklearn.linear_model import LinearRegression\n",
    "\n",
    "lin_reg = LinearRegression()\n",
    "lin_reg.fit(X, y)\n",
    "lin_reg.intercept_, lin_reg.coef_\n",
    "# same as what we calculated above"
   ]
  },
  {
   "cell_type": "code",
   "execution_count": 15,
   "metadata": {},
   "outputs": [
    {
     "data": {
      "text/plain": [
       "array([[ 3.76656781],\n",
       "       [10.04598789]])"
      ]
     },
     "execution_count": 15,
     "metadata": {},
     "output_type": "execute_result"
    }
   ],
   "source": [
    "lin_reg.predict(X_new)\n",
    "# and same as prediction above"
   ]
  },
  {
   "cell_type": "code",
   "execution_count": 16,
   "metadata": {},
   "outputs": [
    {
     "data": {
      "text/plain": [
       "array([[3.76656781],\n",
       "       [3.13971004]])"
      ]
     },
     "execution_count": 16,
     "metadata": {},
     "output_type": "execute_result"
    }
   ],
   "source": [
    "# the linear regression class is based on scipy.linalg.lstsq\n",
    "# meaning least squares, can call directly\n",
    "\n",
    "theta_best_svd, residuals, rank, s = np.linalg.lstsq(X_b, y, rcond = 1e-6)\n",
    "theta_best_svd\n",
    "\n",
    "# same as two above\n",
    "# this function actually computes\n",
    "# theta hat = X^+y, where X^+ is the pseudoinverse of X\n",
    "# (Moore-Penrose inverse). can use np.linalg.pinv() to compute \n",
    "# pseudoinverse directly"
   ]
  },
  {
   "cell_type": "code",
   "execution_count": 17,
   "metadata": {},
   "outputs": [
    {
     "data": {
      "text/plain": [
       "array([[3.76656781],\n",
       "       [3.13971004]])"
      ]
     },
     "execution_count": 17,
     "metadata": {},
     "output_type": "execute_result"
    }
   ],
   "source": [
    "np.linalg.pinv(X_b).dot(y)\n",
    "\n",
    "# the purpose of the pseudoinverse in linear algebra is to\n",
    "# compute the best fit (least squares, eg linear regression) \n",
    "# solution to a system of linear equations that lacks a solution\n",
    "\n",
    "# another use is to find the minimum euclidean norm solution\n",
    "# to a system of linear equations with multiple solutions\n",
    "\n",
    "# it is computed using standard matrix factorization technique\n",
    "# called Singular Value Decomposition (SVD) that decomposes\n",
    "# the training set X into matrix multiplication of three \n",
    "# matrices U, sigma, and V^T (np.linalg.svd())\n",
    "# the pseudoinverse is computed as X^+ = V sigma^+ U^T\n",
    "\n",
    "# to compute sigma^+, algo takes sigma and sets to zero all values\n",
    "# smaller than a tiny threshold. after, it replaces all nonzero values with \n",
    "# their inverse and transposes the resulting matrix\n",
    "\n",
    "# this computation is more efficient than the normal equation\n",
    "# also, the normal equation may not work if XTX is not invertible,\n",
    "# but the pseudoinverse is always defined\n",
    "\n",
    "# normal equation complexity is between O(n^2.4) and O(n^3)\n",
    "# while scikit svd is O(n^2)"
   ]
  },
  {
   "cell_type": "code",
   "execution_count": 18,
   "metadata": {},
   "outputs": [],
   "source": [
    "# gradient descent is better suited method to train\n",
    "# linear regression model when there are a large\n",
    "# number of features or too many training instances to fit\n",
    "# in memory\n",
    "\n",
    "# move in direction of steepest descent by computing the gradient\n",
    "# at the current point. when gradient is 0, ou have found minimum\n",
    "\n",
    "# start parameter vector with random values and improve gradually taking one\n",
    "# step at a time, attempting to decrese the cost function until\n",
    "# algorithm converges at mnimum\n",
    "\n",
    "# important hyperparameter is learning rate. if too small, it will take \n",
    "# too many steps. if too large, it could oscillate and could diverge\n",
    "\n",
    "# if cost function is not bowl shape, could converge to local min\n",
    "# rather than global optimal min\n",
    "\n",
    "# mse is convex function, meaning pick any two points across\n",
    "# the curve and line connecting them never crosses the curve\n",
    "# meaning no local minima, just global minimum\n",
    "# it also is continuous (can take a derivative) and never\n",
    "# changes slope abruptly\n",
    "\n",
    "# when using gradient descent, make sure all features have similar scale\n",
    "# ie use standard scaler\n",
    "\n",
    "# training is more difficult for this in higher dimensions; thankfully for linear regression\n",
    "# the solution is simply at the bottom of the bowl (cause convex function)\n",
    "\n"
   ]
  },
  {
   "cell_type": "code",
   "execution_count": 19,
   "metadata": {},
   "outputs": [
    {
     "data": {
      "text/plain": [
       "array([[3.76656781],\n",
       "       [3.13971004]])"
      ]
     },
     "execution_count": 19,
     "metadata": {},
     "output_type": "execute_result"
    }
   ],
   "source": [
    "# batch gradient descent\n",
    "# takes partial derivative of cost function with respect to each\n",
    "\n",
    "# partial derivative of cost function = \n",
    "# 2/m * sum(parameter .dot features - labels)*feature\n",
    "\n",
    "# parameter thetaj\n",
    "# to determine, take partials and move in opposite direction of slope\n",
    "# times the learning rate to get step size\n",
    "# theta step = theta - rate * gradient(mse)\n",
    "\n",
    "eta = .1 # learning rate\n",
    "n_iterations = 1000\n",
    "m = 100\n",
    "\n",
    "theta = np.random.randn(2, 1) # random initialization\n",
    "\n",
    "for iteration in range(n_iterations):\n",
    "    gradients = 2/m * X_b.T.dot(X_b.dot(theta) - y)\n",
    "    theta = theta - eta * gradients\n",
    "\n",
    "theta\n",
    "# and is exactly what every other method found\n",
    "# to find a good learning rate, can use grid search from chapter 2\n",
    "# to find iterations, set to large number and break when gradient\n",
    "# vector becomes tiny, smaller than tolerance\n"
   ]
  },
  {
   "cell_type": "code",
   "execution_count": null,
   "metadata": {},
   "outputs": [],
   "source": []
  }
 ],
 "metadata": {
  "kernelspec": {
   "display_name": "Python 3",
   "language": "python",
   "name": "python3"
  },
  "language_info": {
   "codemirror_mode": {
    "name": "ipython",
    "version": 3
   },
   "file_extension": ".py",
   "mimetype": "text/x-python",
   "name": "python",
   "nbconvert_exporter": "python",
   "pygments_lexer": "ipython3",
   "version": "3.8.5"
  }
 },
 "nbformat": 4,
 "nbformat_minor": 4
}
