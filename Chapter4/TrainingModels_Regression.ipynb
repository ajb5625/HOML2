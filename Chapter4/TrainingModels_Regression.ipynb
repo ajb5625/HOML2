{
 "cells": [
  {
   "cell_type": "code",
   "execution_count": 2,
   "metadata": {},
   "outputs": [],
   "source": [
    "# linear regression\n",
    "# y hat = theta0 + theta1x1 + ... + thetanxn\n",
    "# vectorized form : y hat = parameter vector * feature vector\n",
    "\n",
    "# to find theta vector that minimizes the cost (MSE)\n",
    "# there is a closed form solution = The Normal Equation\n",
    "# theta hat = (XTX)^-1 XT y\n",
    "# theta hat is value that minimizes cost function\n",
    "# y is vector of target values\n",
    "# now we test this equation as follows\n",
    "\n",
    "import numpy as np\n",
    "\n",
    "X = 2 * np.random.rand(100, 1)\n",
    "y = 4 + 3 * X + np.random.randn(100, 1)\n",
    "# generated linear data"
   ]
  },
  {
   "cell_type": "code",
   "execution_count": 3,
   "metadata": {},
   "outputs": [
    {
     "data": {
      "text/plain": [
       "array([[3.95037078],\n",
       "       [3.1062294 ]])"
      ]
     },
     "execution_count": 3,
     "metadata": {},
     "output_type": "execute_result"
    }
   ],
   "source": [
    "# now, compute theta hat using normal equation\n",
    "\n",
    "X_b = np.c_[np.ones((100, 1)), X] # add x0 = 1 to each instance\n",
    "theta_best = np.linalg.inv(X_b.T.dot(X_b)).dot(X_b.T).dot(y)\n",
    "theta_best\n",
    "\n",
    "# the function we used to generate the data was\n",
    "# y = 4 + 3x + gaussian noise\n",
    "# so we would've hoped for theta0 to be 4 and theta1 to be 3, but close enough"
   ]
  },
  {
   "cell_type": "code",
   "execution_count": 4,
   "metadata": {},
   "outputs": [
    {
     "data": {
      "text/plain": [
       "array([[ 3.95037078],\n",
       "       [10.16282959]])"
      ]
     },
     "execution_count": 4,
     "metadata": {},
     "output_type": "execute_result"
    }
   ],
   "source": [
    "# now can make predictions using theta hat\n",
    "\n",
    "X_new = np.array([[0], [2]])\n",
    "X_new_b = np.c_[np.ones((2,1)), X_new] # add x0 = 1 to each instance\n",
    "y_predict = X_new_b.dot(theta_best)\n",
    "y_predict\n",
    "\n",
    "# pretty neat, the underworkings of linear regression"
   ]
  },
  {
   "cell_type": "code",
   "execution_count": 5,
   "metadata": {},
   "outputs": [
    {
     "data": {
      "image/png": "[encoded data removed]",
      "text/plain": [
       "<Figure size 432x288 with 1 Axes>"
      ]
     },
     "metadata": {
      "needs_background": "light"
     },
     "output_type": "display_data"
    }
   ],
   "source": [
    "# now lets plot it\n",
    "\n",
    "import matplotlib.pyplot as plt\n",
    "%matplotlib inline\n",
    "\n",
    "plt.plot(X_new, y_predict, \"r-\")\n",
    "plt.plot(X, y, \"b.\")\n",
    "plt.axis([0,2,0,15])\n",
    "plt.show()"
   ]
  },
  {
   "cell_type": "code",
   "execution_count": 6,
   "metadata": {},
   "outputs": [
    {
     "data": {
      "text/plain": [
       "(array([3.95037078]), array([[3.1062294]]))"
      ]
     },
     "execution_count": 6,
     "metadata": {},
     "output_type": "execute_result"
    }
   ],
   "source": [
    "# now do simply with scikit\n",
    "\n",
    "from sklearn.linear_model import LinearRegression\n",
    "\n",
    "lin_reg = LinearRegression()\n",
    "lin_reg.fit(X, y)\n",
    "lin_reg.intercept_, lin_reg.coef_\n",
    "# same as what we calculated above"
   ]
  },
  {
   "cell_type": "code",
   "execution_count": 7,
   "metadata": {},
   "outputs": [
    {
     "data": {
      "text/plain": [
       "array([[ 3.95037078],\n",
       "       [10.16282959]])"
      ]
     },
     "execution_count": 7,
     "metadata": {},
     "output_type": "execute_result"
    }
   ],
   "source": [
    "lin_reg.predict(X_new)\n",
    "# and same as prediction above"
   ]
  },
  {
   "cell_type": "code",
   "execution_count": 8,
   "metadata": {},
   "outputs": [
    {
     "data": {
      "text/plain": [
       "array([[3.95037078],\n",
       "       [3.1062294 ]])"
      ]
     },
     "execution_count": 8,
     "metadata": {},
     "output_type": "execute_result"
    }
   ],
   "source": [
    "# the linear regression class is based on scipy.linalg.lstsq\n",
    "# meaning least squares, can call directly\n",
    "\n",
    "theta_best_svd, residuals, rank, s = np.linalg.lstsq(X_b, y, rcond = 1e-6)\n",
    "theta_best_svd\n",
    "\n",
    "# same as two above\n",
    "# this function actually computes\n",
    "# theta hat = X^+y, where X^+ is the pseudoinverse of X\n",
    "# (Moore-Penrose inverse). can use np.linalg.pinv() to compute \n",
    "# pseudoinverse directly"
   ]
  },
  {
   "cell_type": "code",
   "execution_count": 9,
   "metadata": {},
   "outputs": [
    {
     "data": {
      "text/plain": [
       "array([[3.95037078],\n",
       "       [3.1062294 ]])"
      ]
     },
     "execution_count": 9,
     "metadata": {},
     "output_type": "execute_result"
    }
   ],
   "source": [
    "np.linalg.pinv(X_b).dot(y)\n",
    "\n",
    "# the purpose of the pseudoinverse in linear algebra is to\n",
    "# compute the best fit (least squares, eg linear regression) \n",
    "# solution to a system of linear equations that lacks a solution\n",
    "\n",
    "# another use is to find the minimum euclidean norm solution\n",
    "# to a system of linear equations with multiple solutions\n",
    "\n",
    "# it is computed using standard matrix factorization technique\n",
    "# called Singular Value Decomposition (SVD) that decomposes\n",
    "# the training set X into matrix multiplication of three \n",
    "# matrices U, sigma, and V^T (np.linalg.svd())\n",
    "# the pseudoinverse is computed as X^+ = V sigma^+ U^T\n",
    "\n",
    "# to compute sigma^+, algo takes sigma and sets to zero all values\n",
    "# smaller than a tiny threshold. after, it replaces all nonzero values with \n",
    "# their inverse and transposes the resulting matrix\n",
    "\n",
    "# this computation is more efficient than the normal equation\n",
    "# also, the normal equation may not work if XTX is not invertible,\n",
    "# but the pseudoinverse is always defined\n",
    "\n",
    "# normal equation complexity is between O(n^2.4) and O(n^3)\n",
    "# while scikit svd is O(n^2)"
   ]
  },
  {
   "cell_type": "code",
   "execution_count": 10,
   "metadata": {},
   "outputs": [],
   "source": [
    "# gradient descent is better suited method to train\n",
    "# linear regression model when there are a large\n",
    "# number of features or too many training instances to fit\n",
    "# in memory\n",
    "\n",
    "# move in direction of steepest descent by computing the gradient\n",
    "# at the current point. when gradient is 0, ou have found minimum\n",
    "\n",
    "# start parameter vector with random values and improve gradually taking one\n",
    "# step at a time, attempting to decrease the cost function until\n",
    "# algorithm converges at minimum\n",
    "\n",
    "# important hyperparameter is learning rate. if too small, it will take \n",
    "# too many steps. if too large, it could oscillate and could diverge\n",
    "\n",
    "# if cost function is not bowl shape, could converge to local min\n",
    "# rather than global optimal min\n",
    "\n",
    "# mse is convex function, meaning pick any two points across\n",
    "# the curve and line connecting them never crosses the curve\n",
    "# meaning no local minima, just global minimum\n",
    "# it also is continuous (can take a derivative) and never\n",
    "# changes slope abruptly\n",
    "\n",
    "# when using gradient descent, make sure all features have similar scale\n",
    "# ie use standard scaler\n",
    "\n",
    "# training is more difficult for this in higher dimensions; thankfully for linear regression\n",
    "# the solution is simply at the bottom of the bowl (cause convex function)\n",
    "\n"
   ]
  },
  {
   "cell_type": "code",
   "execution_count": 11,
   "metadata": {},
   "outputs": [
    {
     "data": {
      "text/plain": [
       "array([[3.95037078],\n",
       "       [3.1062294 ]])"
      ]
     },
     "execution_count": 11,
     "metadata": {},
     "output_type": "execute_result"
    }
   ],
   "source": [
    "# batch gradient descent\n",
    "# takes partial derivative of cost function with respect to each\n",
    "\n",
    "# partial derivative of cost function = \n",
    "# 2/m * sum(parameter .dot features - labels)*feature\n",
    "\n",
    "# parameter thetaj\n",
    "# to determine, take partials and move in opposite direction of slope\n",
    "# times the learning rate to get step size\n",
    "# theta step = theta - rate * gradient(mse)\n",
    "\n",
    "eta = .1 # learning rate\n",
    "n_iterations = 1000\n",
    "m = 100\n",
    "\n",
    "theta = np.random.randn(2, 1) # random initialization\n",
    "\n",
    "for iteration in range(n_iterations):\n",
    "    gradients = 2/m * X_b.T.dot(X_b.dot(theta) - y)\n",
    "    theta = theta - eta * gradients\n",
    "\n",
    "theta\n",
    "# and is exactly what every other method found\n",
    "# to find a good learning rate, can use grid search from chapter 2\n",
    "# to find iterations, set to large number and break when gradient\n",
    "# vector becomes tiny, smaller than tolerance\n"
   ]
  },
  {
   "cell_type": "code",
   "execution_count": 17,
   "metadata": {},
   "outputs": [
    {
     "data": {
      "text/plain": [
       "array([[3.93338421],\n",
       "       [3.07239596]])"
      ]
     },
     "execution_count": 17,
     "metadata": {},
     "output_type": "execute_result"
    }
   ],
   "source": [
    "# stochastic gradient descent is good when the training\n",
    "# data is huge; but because of random nature, can\n",
    "# oscillate when close to the minimum\n",
    "# because of this, it probably won't find global min\n",
    "\n",
    "# it also looks at one piece of data at a time and computes gradient\n",
    "# rather than batch of whole training data as in bgd\n",
    "\n",
    "# this means the training step is much faster but more random(stochastic)\n",
    "\n",
    "# when cost function is irregular, sgd can actually help algorithm jump out\n",
    "# of local minima, so sgd has better chance of finding global minimum than bgd\n",
    "\n",
    "# randomness is good because can help us escape local minima, but bad because\n",
    "# algorithm will never settle at global minimum\n",
    "# can fix this by gradually reducing the learning rate with a learning schedule\n",
    "\n",
    "# implementation of stochastic gradient descent with simple learning schedule\n",
    "\n",
    "n_epochs = 50\n",
    "t0, t1 = 5, 50 # learning schedule hyperparameters\n",
    "\n",
    "def learning_schedule(t):\n",
    "    return t0 / (t + t1)\n",
    "\n",
    "theta = np.random.randn(2, 1) # random 2x1\n",
    "\n",
    "for epoch in range(n_epochs):\n",
    "    for i in range(m):\n",
    "        random_index = np.random.randint(m)\n",
    "        xi = X_b[random_index:random_index + 1]\n",
    "        yi = y[random_index:random_index + 1]\n",
    "        gradients = 2 * xi.T.dot(xi.dot(theta) - yi)\n",
    "        eta = learning_schedule(epoch * m + i)\n",
    "        theta = theta - eta * gradients\n",
    "        \n",
    "theta\n"
   ]
  },
  {
   "cell_type": "code",
   "execution_count": 18,
   "metadata": {},
   "outputs": [
    {
     "data": {
      "text/plain": [
       "(array([3.90870688]), array([3.07210092]))"
      ]
     },
     "execution_count": 18,
     "metadata": {},
     "output_type": "execute_result"
    }
   ],
   "source": [
    "# can also do sgdregressor from sklearn\n",
    "# params for below example as follows\n",
    "# max 1000 epochs, or until loss drops by less than .001 (tolerance)\n",
    "# learning rate starts at .1 and follows a default learning schedule\n",
    "# does no regularization (penalty = none)\n",
    "\n",
    "from sklearn.linear_model import SGDRegressor\n",
    "\n",
    "sgd_reg = SGDRegressor(max_iter = 1000, tol = 1e-3, penalty = None, eta0 = .1)\n",
    "sgd_reg.fit(X, y.ravel())\n",
    "\n",
    "# will again find solution close to one returned by normal equation\n",
    "\n",
    "sgd_reg.intercept_, sgd_reg.coef_"
   ]
  },
  {
   "cell_type": "code",
   "execution_count": null,
   "metadata": {},
   "outputs": [],
   "source": [
    "# mini batch gradient descent looks at subsets of training data\n",
    "# can take advantage of hardware optimization of matrix operations on gpus\n",
    "\n",
    "# progress in parameter space is less erratic than sgd, will walk closer around\n",
    "# the global min than sgd but may be harder to escape the local minima (when problems\n",
    "# suffer this issue, unlike linear regression :)"
   ]
  },
  {
   "cell_type": "code",
   "execution_count": 22,
   "metadata": {},
   "outputs": [
    {
     "data": {
      "text/plain": [
       "array([[ 4.24301119],\n",
       "       [ 1.14478736],\n",
       "       [ 3.53705731],\n",
       "       [ 4.92845676],\n",
       "       [ 0.01863908],\n",
       "       [ 4.24422995],\n",
       "       [ 7.2898822 ],\n",
       "       [ 1.97935991],\n",
       "       [ 0.11775403],\n",
       "       [ 2.44225434],\n",
       "       [ 1.9232459 ],\n",
       "       [-0.03984671],\n",
       "       [ 0.94596698],\n",
       "       [ 5.35895734],\n",
       "       [ 3.56179681],\n",
       "       [ 0.42668596],\n",
       "       [ 2.5140406 ],\n",
       "       [ 1.36733225],\n",
       "       [ 5.74371319],\n",
       "       [ 2.82028433],\n",
       "       [ 2.17956609],\n",
       "       [ 1.98067515],\n",
       "       [ 5.72056126],\n",
       "       [ 5.27835241],\n",
       "       [ 0.88007833],\n",
       "       [ 3.86959161],\n",
       "       [ 8.73373288],\n",
       "       [ 3.8543832 ],\n",
       "       [ 9.89109624],\n",
       "       [ 3.69517567],\n",
       "       [ 3.46363003],\n",
       "       [ 2.96878981],\n",
       "       [ 5.74187113],\n",
       "       [ 5.58186924],\n",
       "       [ 7.94148154],\n",
       "       [ 2.78342749],\n",
       "       [ 4.37317814],\n",
       "       [ 2.54055728],\n",
       "       [ 2.83039427],\n",
       "       [ 1.49495435],\n",
       "       [ 2.2216492 ],\n",
       "       [ 4.1918319 ],\n",
       "       [ 1.67711028],\n",
       "       [ 9.06192702],\n",
       "       [ 1.94965281],\n",
       "       [ 3.22788047],\n",
       "       [ 2.98714192],\n",
       "       [ 9.37566691],\n",
       "       [ 1.29259026],\n",
       "       [ 2.01795461],\n",
       "       [ 2.52878507],\n",
       "       [ 5.41892693],\n",
       "       [ 1.56074121],\n",
       "       [ 1.58553737],\n",
       "       [ 4.95858439],\n",
       "       [ 4.37199646],\n",
       "       [ 2.73109211],\n",
       "       [ 4.14309007],\n",
       "       [ 1.25483856],\n",
       "       [ 3.61167281],\n",
       "       [-0.06078306],\n",
       "       [ 8.74909269],\n",
       "       [ 2.52799138],\n",
       "       [ 0.92440307],\n",
       "       [ 7.34877721],\n",
       "       [ 9.2578419 ],\n",
       "       [ 6.66263457],\n",
       "       [ 1.48550731],\n",
       "       [ 1.55044326],\n",
       "       [ 7.1829285 ],\n",
       "       [ 3.9729093 ],\n",
       "       [ 7.00736599],\n",
       "       [ 2.25290702],\n",
       "       [ 1.2765185 ],\n",
       "       [ 1.70835859],\n",
       "       [ 5.42096074],\n",
       "       [ 3.92632501],\n",
       "       [ 2.48845269],\n",
       "       [ 0.46170762],\n",
       "       [ 2.22612361],\n",
       "       [ 0.48312213],\n",
       "       [ 3.22043584],\n",
       "       [ 2.4892852 ],\n",
       "       [ 3.56765965],\n",
       "       [ 0.9156031 ],\n",
       "       [ 5.10583655],\n",
       "       [ 0.65830675],\n",
       "       [ 2.30751003],\n",
       "       [ 1.91153055],\n",
       "       [ 8.03415865],\n",
       "       [ 1.00929957],\n",
       "       [ 2.82594649],\n",
       "       [ 5.43599176],\n",
       "       [ 6.79753028],\n",
       "       [ 3.26988473],\n",
       "       [ 2.2789828 ],\n",
       "       [ 9.24256535],\n",
       "       [ 5.70180047],\n",
       "       [ 3.45939283],\n",
       "       [ 3.10805945]])"
      ]
     },
     "execution_count": 22,
     "metadata": {},
     "output_type": "execute_result"
    }
   ],
   "source": [
    "# now, onto Polynomial Regression\n",
    "\n",
    "# can use linear model to fit nonlinear data\n",
    "# add powers of each feature as new feature\n",
    "# then train linear model on this extended set of features\n",
    "\n",
    "# generate nonlinear data based on quadratic equation\n",
    "\n",
    "m = 100\n",
    "X = 6 * np.random.rand(m, 1) - 3\n",
    "y = .5 * X**2 + X + 2 + np.random.randn(m, 1)\n",
    "# made some cool vectors"
   ]
  },
  {
   "cell_type": "code",
   "execution_count": 23,
   "metadata": {},
   "outputs": [
    {
     "data": {
      "text/plain": [
       "array([0.93729007])"
      ]
     },
     "execution_count": 23,
     "metadata": {},
     "output_type": "execute_result"
    }
   ],
   "source": [
    "# so, a line will never fit this data.\n",
    "# we can use scikits polynomial features class to transform \n",
    "# our training data, adding the square of each feature in the training\n",
    "# set as a new feature\n",
    "\n",
    "from sklearn.preprocessing import PolynomialFeatures\n",
    "\n",
    "poly_features = PolynomialFeatures(degree = 2, include_bias = False)\n",
    "X_poly = poly_features.fit_transform(X)\n",
    "X[0]"
   ]
  },
  {
   "cell_type": "code",
   "execution_count": 24,
   "metadata": {},
   "outputs": [
    {
     "data": {
      "text/plain": [
       "array([0.93729007, 0.87851268])"
      ]
     },
     "execution_count": 24,
     "metadata": {},
     "output_type": "execute_result"
    }
   ],
   "source": [
    "X_poly[0]\n",
    "\n",
    "# X_poly contains the original feature of X plus the square of this feature"
   ]
  },
  {
   "cell_type": "code",
   "execution_count": 25,
   "metadata": {},
   "outputs": [
    {
     "data": {
      "text/plain": [
       "(array([1.91564008]), array([[0.99490912, 0.51518788]]))"
      ]
     },
     "execution_count": 25,
     "metadata": {},
     "output_type": "execute_result"
    }
   ],
   "source": [
    "# now, we can fit a linear regression model to this extended training data\n",
    "\n",
    "lin_reg = LinearRegression()\n",
    "lin_reg.fit(X_poly, y)\n",
    "lin_reg.intercept_, lin_reg.coef_\n",
    "# compare this to intercept = 2, x^2 = .5, x = 1\n",
    "\n",
    "# when there are multiple features, polynomial regression\n",
    "# can find relationships between features, which linear regression\n",
    "# cannot. this is because PolynomialFeatures adds all combinations\n",
    "# of features up to the given degree\n",
    "\n",
    "# ex if degree = 3 and there are features a and b, polynomial adds\n",
    "# a^2, a^3, b^2, b^3 and ab, a^2b, ab^2\n",
    "# this can cause a combinatorial explosion, be careful# so, a line will never fit this data.\n",
    "# we can use scikits polynomial features class to transform \n",
    "# our training data, adding the square of each feature in the training\n",
    "# set as a new feature"
   ]
  },
  {
   "cell_type": "code",
   "execution_count": 28,
   "metadata": {},
   "outputs": [
    {
     "data": {
      "image/png": "[encoded data removed]",
      "text/plain": [
       "<Figure size 432x288 with 1 Axes>"
      ]
     },
     "metadata": {
      "needs_background": "light"
     },
     "output_type": "display_data"
    }
   ],
   "source": [
    "# if you perform high degree poly regression,\n",
    "# will likely fit the training model better than with\n",
    "# plain linear regression\n",
    "\n",
    "# the problem we see here is the polynomial regression\n",
    "# will overfit training data, linear regression will\n",
    "# underfit training data\n",
    "\n",
    "# we looked at k fold cross validation before.\n",
    "# a good way to analyze for regression models\n",
    "# is looking at the learning curves. This plots \n",
    "# the model's performance on training and validation sets\n",
    "# as a function of the training set size\n",
    "\n",
    "# so we will train model several times on different sized subsets\n",
    "# of data of training set.\n",
    "\n",
    "from sklearn.metrics import mean_squared_error\n",
    "from sklearn.model_selection import train_test_split\n",
    "\n",
    "def plot_learning_curves(model, X, y):\n",
    "    X_train, X_val, y_train, y_val = train_test_split(X, y, test_size = .2)\n",
    "    train_errors, val_errors = [], []\n",
    "    for m in range(1, len(X_train)):\n",
    "        model.fit(X_train[:m], y_train[:m])\n",
    "        y_train_predict = model.predict(X_train[:m])\n",
    "        y_val_predict = model.predict(X_val)\n",
    "        train_errors.append(mean_squared_error(y_train[:m], y_train_predict))\n",
    "        val_errors.append(mean_squared_error(y_val, y_val_predict))\n",
    "    plt.plot(np.sqrt(train_errors), 'r-+', linewidth = 2, label = 'train')\n",
    "    plt.plot(np.sqrt(val_errors), 'b-', linewidth = 3, label = 'val')\n",
    "    \n",
    "lin_reg = LinearRegression()\n",
    "plot_learning_curves(lin_reg, X, y)\n",
    "\n",
    "# so this model is underfitting, which makes sense cause\n",
    "# data was not linear to begin with. we see high validation error\n",
    "# when training few examples because it cannot generalize well off of only \n",
    "# a few training examples. When learning more examples, val error slowly goes down \n",
    "# until it hits a plateau \n",
    "\n",
    "# with the train error, it is easy to correctly classify the first few training examples\n",
    "# but after a while, we see that a line does not fit nonlinear data well. it also plateaus\n",
    "# and meets around the same place as the validation error"
   ]
  },
  {
   "cell_type": "code",
   "execution_count": 30,
   "metadata": {},
   "outputs": [
    {
     "data": {
      "image/png": "[encoded data removed]",
      "text/plain": [
       "<Figure size 432x288 with 1 Axes>"
      ]
     },
     "metadata": {
      "needs_background": "light"
     },
     "output_type": "display_data"
    }
   ],
   "source": [
    "# now learning curves of 10th degree polynomial model (expecting overfitting)\n",
    "\n",
    "from sklearn.pipeline import Pipeline\n",
    "\n",
    "polynomial_regression = Pipeline([\n",
    "    ('poly_features', PolynomialFeatures(degree = 10, include_bias = False)),\n",
    "    (\"lin_reg\", LinearRegression())\n",
    "])\n",
    "\n",
    "plot_learning_curves(polynomial_regression, X, y)\n",
    "\n",
    "# as we can see, error on training data is much lower here\n",
    "# than in regular linear regression\n",
    "# there is also a gap between the curves, meaning model\n",
    "# performs much better on training data than validation data\n",
    "# hallmark of overfitting model\n",
    "# but, when training set gets larger curves get much closer\n",
    "\n",
    "# and as we can see, one way to fix an overfitting model is\n",
    "# to feed it more training data until validation error meets\n",
    "# training error"
   ]
  },
  {
   "cell_type": "code",
   "execution_count": 31,
   "metadata": {},
   "outputs": [],
   "source": [
    "# bias/variance tradeoff\n",
    "# error of model can be described as sum of 3 different types of errors\n",
    "\n",
    "# bias : generalization error is due to wrong assumptions. assuming data is linear\n",
    "# when it is actually quadratic. high bias model is most likely to underfit training data\n",
    "\n",
    "# variance : due to model's excessive sensitivity to small variations in training data\n",
    "# a model with many degrees of freedom (high degree polynomial model) is likely to have\n",
    "# high variance and thus overfit training data\n",
    "\n",
    "# irreducible error : noisiness of data. reduce by cleaning data, fix data sources\n",
    "# detect or remove outliers\n",
    "\n",
    "# increasing a model's complexity typically increases its variance and reduces its bias\n",
    "# reducing a models complexity increases its bias and reduces its variance\n",
    "\n",
    "# this is why it is a tradeoff :)\n"
   ]
  },
  {
   "cell_type": "code",
   "execution_count": 32,
   "metadata": {},
   "outputs": [],
   "source": [
    "# Regularized Linear Models\n",
    "\n",
    "# the fewer degrees of freedom a model has, thre harder it will\n",
    "# be to overfit the data\n",
    "\n",
    "# regularize polynomial model by reducing number of polynomial degrees\n",
    "\n",
    "# for linear model, regularization is achieved by constraining weights of the model\n",
    "\n",
    "# Ridge Regression, Lasso Regression, and Elastic Net are 3 different ways to constrain the weights"
   ]
  },
  {
   "cell_type": "code",
   "execution_count": null,
   "metadata": {},
   "outputs": [],
   "source": []
  }
 ],
 "metadata": {
  "kernelspec": {
   "display_name": "Python 3",
   "language": "python",
   "name": "python3"
  },
  "language_info": {
   "codemirror_mode": {
    "name": "ipython",
    "version": 3
   },
   "file_extension": ".py",
   "mimetype": "text/x-python",
   "name": "python",
   "nbconvert_exporter": "python",
   "pygments_lexer": "ipython3",
   "version": "3.8.5"
  }
 },
 "nbformat": 4,
 "nbformat_minor": 4
}
